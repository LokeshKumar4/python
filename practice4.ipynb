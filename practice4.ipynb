{
  "nbformat": 4,
  "nbformat_minor": 0,
  "metadata": {
    "colab": {
      "provenance": []
    },
    "kernelspec": {
      "name": "python3",
      "display_name": "Python 3"
    },
    "language_info": {
      "name": "python"
    }
  },
  "cells": [
    {
      "cell_type": "code",
      "execution_count": 1,
      "metadata": {
        "colab": {
          "base_uri": "https://localhost:8080/",
          "height": 36
        },
        "id": "njRVQibJWwfE",
        "outputId": "da1d08c1-eee6-4864-fcac-677c8d6fff78"
      },
      "outputs": [
        {
          "output_type": "execute_result",
          "data": {
            "text/plain": [
              "'\\nTopics: \\n- Exceptional handling\\n- File handling\\n- List , dictionary & set comprehension\\n- Classes & Object\\n\\n'"
            ],
            "application/vnd.google.colaboratory.intrinsic+json": {
              "type": "string"
            }
          },
          "metadata": {},
          "execution_count": 1
        }
      ],
      "source": [
        "'''\n",
        "Topics: \n",
        "- Exceptional handling\n",
        "- File handling\n",
        "- List , dictionary & set comprehension\n",
        "- Classes & Object\n",
        "\n",
        "'''"
      ]
    },
    {
      "cell_type": "code",
      "source": [
        "# List comprehension\n",
        "#create 2 list containing with \n",
        "l1=[1,2,3,4,5,6,7]\n",
        "l2=[3,6,7,9,8,11,13]\n",
        "\n",
        "l3=[data for data in l1 if data in l2]\n",
        "print(l3)"
      ],
      "metadata": {
        "colab": {
          "base_uri": "https://localhost:8080/"
        },
        "id": "C5sXwSFjaV_k",
        "outputId": "ddc2f3d8-cfcc-497e-ea3b-6e066963ff65"
      },
      "execution_count": 2,
      "outputs": [
        {
          "output_type": "stream",
          "name": "stdout",
          "text": [
            "[3, 6, 7]\n"
          ]
        }
      ]
    },
    {
      "cell_type": "code",
      "source": [
        "l1=['John','Mayank','Aman']\n",
        "l1=[data.upper() for data in l1]\n",
        "\n",
        "l2=['john','Ram','mayank']\n",
        "l2=[data.upper() for data in l2]\n",
        "l3=[data.upper() for data in l1 if data in l2 ]\n",
        "print(l3)"
      ],
      "metadata": {
        "colab": {
          "base_uri": "https://localhost:8080/"
        },
        "id": "1cn53FLre1RE",
        "outputId": "16568209-a7d7-4760-9450-75dfc255b05f"
      },
      "execution_count": 3,
      "outputs": [
        {
          "output_type": "stream",
          "name": "stdout",
          "text": [
            "['JOHN', 'MAYANK']\n"
          ]
        }
      ]
    },
    {
      "cell_type": "code",
      "source": [
        "s1={data for data in l1}\n",
        "s2={data for data in l2}\n",
        "print(s1.intersection(s2))\n",
        "s3={data for data in s1.intersection(s2)}\n",
        "print(s3)"
      ],
      "metadata": {
        "colab": {
          "base_uri": "https://localhost:8080/"
        },
        "id": "5OhCU9HegVXj",
        "outputId": "dea28e50-e5c8-4a13-91e9-ee583babc9a4"
      },
      "execution_count": 7,
      "outputs": [
        {
          "output_type": "stream",
          "name": "stdout",
          "text": [
            "{'MAYANK', 'JOHN'}\n",
            "{'MAYANK', 'JOHN'}\n"
          ]
        }
      ]
    },
    {
      "cell_type": "code",
      "source": [
        "studentName=[\"Mayank\",\"Raj\",\"varun\"]\n",
        "AgeList=[20,25,18]\n",
        "d={studentName[i]:AgeList[i] for i in range(len(studentName))}\n",
        "print(type(d),d)"
      ],
      "metadata": {
        "colab": {
          "base_uri": "https://localhost:8080/"
        },
        "id": "j8knNWh9iC8s",
        "outputId": "7b5a9497-0cae-4b17-8676-2092a906c01a"
      },
      "execution_count": 21,
      "outputs": [
        {
          "output_type": "stream",
          "name": "stdout",
          "text": [
            "<class 'dict'> {'Mayank': 20, 'Raj': 25, 'varun': 18}\n"
          ]
        }
      ]
    },
    {
      "cell_type": "code",
      "source": [
        "\n",
        "d={k:v for k,v in sorted(d.items(),key=lambda x :x[1])}\n",
        "print(d)"
      ],
      "metadata": {
        "colab": {
          "base_uri": "https://localhost:8080/"
        },
        "id": "jVgFMODthNZe",
        "outputId": "c9a5a393-49f7-46d2-decb-716ed3e87ee7"
      },
      "execution_count": 32,
      "outputs": [
        {
          "output_type": "stream",
          "name": "stdout",
          "text": [
            "{'varun': 18, 'Mayank': 20, 'Raj': 25}\n"
          ]
        }
      ]
    },
    {
      "cell_type": "code",
      "source": [
        "l=[2,4,6,8]\n",
        "l2=[data**4 for data in l]\n",
        "print(l2)"
      ],
      "metadata": {
        "colab": {
          "base_uri": "https://localhost:8080/"
        },
        "id": "Ra5tBCCej1cE",
        "outputId": "f6f691f9-7197-4a75-a860-86a2e1ac66a8"
      },
      "execution_count": 15,
      "outputs": [
        {
          "output_type": "stream",
          "name": "stdout",
          "text": [
            "[16, 256, 1296, 4096]\n"
          ]
        }
      ]
    },
    {
      "cell_type": "code",
      "source": [
        "\n",
        "'''\n",
        "Q.: to convert a number into binary , hexadecimal and octal \n",
        "\n",
        "'''\n",
        "def binary_conversion(num):\n",
        "    return bin(num)\n",
        "def octal_conversion(num):\n",
        "    return oct(num)\n",
        "\n",
        "def hexadecimal_conversion(num):\n",
        "    return hex(num)\n",
        "    \n",
        "def conversion():\n",
        "    n=int(input(\"enter a number :\"))\n",
        "    b=binary_conversion(n)\n",
        "    o=octal_conversion(n)\n",
        "    h=hexadecimal_conversion(n)\n",
        "    print(\"Binary Equivalent :\",b)\n",
        "    print(\"Octal Equivalent :\",o)\n",
        "    print(\"Hexadecimal equivalent :\",h)\n",
        "\n",
        "# conversion()"
      ],
      "metadata": {
        "id": "MnusGcNN72Gq"
      },
      "execution_count": null,
      "outputs": []
    },
    {
      "cell_type": "code",
      "source": [
        "'''\n",
        "class\n",
        "\n",
        "'''\n",
        "\n",
        "class studentInfo:\n",
        "  s=10\n",
        "  name=\"Lokesh\"\n",
        "  def student_role(self):\n",
        "    if self.s>5:\n",
        "      return \"late admission\"\n",
        "    else:\n",
        "      pass\n",
        "\n",
        "\n",
        "\n",
        "obj1=studentInfo()\n",
        "obj1.s=16\n",
        "print(obj1.student_role())"
      ],
      "metadata": {
        "colab": {
          "base_uri": "https://localhost:8080/"
        },
        "id": "WFAelHmajvrB",
        "outputId": "20d0757b-c695-45e0-ab45-9fa268cd1911"
      },
      "execution_count": 56,
      "outputs": [
        {
          "output_type": "stream",
          "name": "stdout",
          "text": [
            "late admission\n"
          ]
        }
      ]
    },
    {
      "cell_type": "code",
      "source": [],
      "metadata": {
        "id": "7rBxsYEklhhg"
      },
      "execution_count": null,
      "outputs": []
    }
  ]
}