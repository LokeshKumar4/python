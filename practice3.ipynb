{
  "nbformat": 4,
  "nbformat_minor": 0,
  "metadata": {
    "colab": {
      "provenance": []
    },
    "kernelspec": {
      "name": "python3",
      "display_name": "Python 3"
    },
    "language_info": {
      "name": "python"
    }
  },
  "cells": [
    {
      "cell_type": "code",
      "execution_count": null,
      "metadata": {
        "id": "KjIkpuEzuYOX"
      },
      "outputs": [],
      "source": [
        "'''\n",
        "Topics\n",
        "  functional programming \n",
        "  parameter vs argument\n",
        "  lambda function\n",
        "  passing argument to function\n",
        "  problem solving skills\n",
        "  interview questions\n",
        "'''"
      ]
    },
    {
      "cell_type": "code",
      "source": [
        "s={1,2,3,5,6,3,4,5,3,2,1}\n",
        "s= frozenset(s)\n",
        "print(type(s))"
      ],
      "metadata": {
        "colab": {
          "base_uri": "https://localhost:8080/"
        },
        "id": "kYM0npvLucEk",
        "outputId": "0501a556-0908-4671-b5d4-3d321ddbdc4a"
      },
      "execution_count": null,
      "outputs": [
        {
          "output_type": "stream",
          "name": "stdout",
          "text": [
            "<class 'frozenset'>\n"
          ]
        }
      ]
    },
    {
      "cell_type": "code",
      "source": [
        "'''\n",
        "Functions\n",
        "block of statement => write logic => to perform or call multiple number of time\n",
        "\n",
        "def functionname ():\n",
        "  statements\n",
        "\n",
        "advantages:\n",
        "  - code reuseability\n",
        "  - large program => small blocks\n",
        "  - \n",
        "'''"
      ],
      "metadata": {
        "id": "ikn7vpIvR8Ym"
      },
      "execution_count": null,
      "outputs": []
    },
    {
      "cell_type": "code",
      "source": [
        "def greeting():\n",
        "  print(\"Hey user, Welcome!\")\n",
        "\n"
      ],
      "metadata": {
        "id": "w2EMTA0LU-WD"
      },
      "execution_count": null,
      "outputs": []
    },
    {
      "cell_type": "code",
      "source": [
        "greeting()"
      ],
      "metadata": {
        "colab": {
          "base_uri": "https://localhost:8080/"
        },
        "id": "gXyo7XRxVGzQ",
        "outputId": "740329cf-c2b7-454d-a7a3-08c9eeac782f"
      },
      "execution_count": null,
      "outputs": [
        {
          "output_type": "stream",
          "name": "stdout",
          "text": [
            "Hey user, Welcome!\n"
          ]
        }
      ]
    },
    {
      "cell_type": "code",
      "source": [
        "'''\n",
        "to swap two numbers without using 3rd variable\n",
        "'''\n",
        "\n",
        "x=10\n",
        "y=20\n",
        "\n",
        "x=x+y\n",
        "y=x-y\n",
        "x=x-y\n",
        "\n",
        "print(x,y)"
      ],
      "metadata": {
        "colab": {
          "base_uri": "https://localhost:8080/"
        },
        "id": "Eq7X696pVI6a",
        "outputId": "a8ffd32e-4327-48ae-d75d-47474f7e7f7b"
      },
      "execution_count": null,
      "outputs": [
        {
          "output_type": "stream",
          "name": "stdout",
          "text": [
            "20 10\n"
          ]
        }
      ]
    },
    {
      "cell_type": "code",
      "source": [
        "def swapNumber(num1,num2):\n",
        "  return num2,num1\n",
        "\n",
        "x=10\n",
        "y=20\n",
        "\n",
        "print(\"before swap\",x,y)\n",
        "x,y=swapNumber(x,y)\n",
        "print(\"After swap :\",x,y)"
      ],
      "metadata": {
        "colab": {
          "base_uri": "https://localhost:8080/"
        },
        "id": "5_62GJsbZMuy",
        "outputId": "d1d5de72-7733-4651-8d2f-ca48b30f02e5"
      },
      "execution_count": null,
      "outputs": [
        {
          "output_type": "stream",
          "name": "stdout",
          "text": [
            "before swap 10 20\n",
            "After swap : 20 10\n"
          ]
        }
      ]
    },
    {
      "cell_type": "code",
      "source": [
        "'''\n",
        "in function we pass the data based on call by object reference \n",
        "immutable data => in function any variable with same reference make the changes , changes are done in new memory for the variables inside the functions \n",
        "                  original data will remain same \n",
        "'''\n",
        "\n",
        "def listMultiply(listData):\n",
        "  print(listData*2)\n",
        "  listData[0]=1897\n",
        "mylist=[10,20,30]\n",
        "listMultiply(mylist)\n",
        "print(mylist)"
      ],
      "metadata": {
        "colab": {
          "base_uri": "https://localhost:8080/"
        },
        "id": "Pcw9EaNSZuij",
        "outputId": "95ef3ed1-6538-4d8b-b282-971dc72b65ad"
      },
      "execution_count": null,
      "outputs": [
        {
          "output_type": "stream",
          "name": "stdout",
          "text": [
            "[10, 20, 30, 10, 20, 30]\n",
            "[1897, 20, 30]\n"
          ]
        }
      ]
    },
    {
      "cell_type": "code",
      "source": [
        "'''\n",
        "Q. to take a list value and create its cube if it is a integer number and make the changes for the original index \n",
        "'''\n",
        "\n",
        "def cubeCalc(listData):\n",
        "  for i in range(len(listData)):\n",
        "    if type(listData[i]) is int:\n",
        "      listData[i]=listData[i]**3\n",
        "\n",
        "mylist=[1,2,3,4,5,6]\n",
        "print(\"actual list: \",mylist)\n",
        "cubeCalc(mylist)\n",
        "print(\"cube of list: \",mylist)\n"
      ],
      "metadata": {
        "colab": {
          "base_uri": "https://localhost:8080/"
        },
        "id": "36iCBmANc1iR",
        "outputId": "31058cab-75ef-4ecf-b120-8ea23465761b"
      },
      "execution_count": null,
      "outputs": [
        {
          "output_type": "stream",
          "name": "stdout",
          "text": [
            "actual list:  [1, 2, 3, 4, 5, 6]\n",
            "cube of list:  [1, 8, 27, 64, 125, 216]\n"
          ]
        }
      ]
    },
    {
      "cell_type": "code",
      "source": [
        "'''\n",
        "program to find LCM of 2 numbers\n",
        "'''\n",
        "\n",
        "def calcLCM(num1,num2):\n",
        "  d=max(num1,num2)\n",
        "  while(not(d%num1==0 and d%num2==0)):\n",
        "    d=+1\n",
        "  print(\"LCM is :\",d)\n",
        "\n",
        "x=int(input(\"enter first value :\"))\n",
        "y=int(input(\"enter second value :\"))\n",
        "calcLCM(x,y)\n"
      ],
      "metadata": {
        "colab": {
          "base_uri": "https://localhost:8080/",
          "height": 356
        },
        "id": "IjVuzfBjeVl9",
        "outputId": "34cd17ea-038c-4ce7-a3e8-da2099ac58dc"
      },
      "execution_count": null,
      "outputs": [
        {
          "name": "stdout",
          "output_type": "stream",
          "text": [
            "enter first value :27\n",
            "enter second value :30\n"
          ]
        },
        {
          "output_type": "error",
          "ename": "KeyboardInterrupt",
          "evalue": "ignored",
          "traceback": [
            "\u001b[0;31m---------------------------------------------------------------------------\u001b[0m",
            "\u001b[0;31mKeyboardInterrupt\u001b[0m                         Traceback (most recent call last)",
            "\u001b[0;32m<ipython-input-67-352d2155cd58>\u001b[0m in \u001b[0;36m<module>\u001b[0;34m\u001b[0m\n\u001b[1;32m     11\u001b[0m \u001b[0mx\u001b[0m\u001b[0;34m=\u001b[0m\u001b[0mint\u001b[0m\u001b[0;34m(\u001b[0m\u001b[0minput\u001b[0m\u001b[0;34m(\u001b[0m\u001b[0;34m\"enter first value :\"\u001b[0m\u001b[0;34m)\u001b[0m\u001b[0;34m)\u001b[0m\u001b[0;34m\u001b[0m\u001b[0;34m\u001b[0m\u001b[0m\n\u001b[1;32m     12\u001b[0m \u001b[0my\u001b[0m\u001b[0;34m=\u001b[0m\u001b[0mint\u001b[0m\u001b[0;34m(\u001b[0m\u001b[0minput\u001b[0m\u001b[0;34m(\u001b[0m\u001b[0;34m\"enter second value :\"\u001b[0m\u001b[0;34m)\u001b[0m\u001b[0;34m)\u001b[0m\u001b[0;34m\u001b[0m\u001b[0;34m\u001b[0m\u001b[0m\n\u001b[0;32m---> 13\u001b[0;31m \u001b[0mcalcLCM\u001b[0m\u001b[0;34m(\u001b[0m\u001b[0mx\u001b[0m\u001b[0;34m,\u001b[0m\u001b[0my\u001b[0m\u001b[0;34m)\u001b[0m\u001b[0;34m\u001b[0m\u001b[0;34m\u001b[0m\u001b[0m\n\u001b[0m",
            "\u001b[0;32m<ipython-input-67-352d2155cd58>\u001b[0m in \u001b[0;36mcalcLCM\u001b[0;34m(num1, num2)\u001b[0m\n\u001b[1;32m      5\u001b[0m \u001b[0;32mdef\u001b[0m \u001b[0mcalcLCM\u001b[0m\u001b[0;34m(\u001b[0m\u001b[0mnum1\u001b[0m\u001b[0;34m,\u001b[0m\u001b[0mnum2\u001b[0m\u001b[0;34m)\u001b[0m\u001b[0;34m:\u001b[0m\u001b[0;34m\u001b[0m\u001b[0;34m\u001b[0m\u001b[0m\n\u001b[1;32m      6\u001b[0m   \u001b[0md\u001b[0m\u001b[0;34m=\u001b[0m\u001b[0mmax\u001b[0m\u001b[0;34m(\u001b[0m\u001b[0mnum1\u001b[0m\u001b[0;34m,\u001b[0m\u001b[0mnum2\u001b[0m\u001b[0;34m)\u001b[0m\u001b[0;34m\u001b[0m\u001b[0;34m\u001b[0m\u001b[0m\n\u001b[0;32m----> 7\u001b[0;31m   \u001b[0;32mwhile\u001b[0m\u001b[0;34m(\u001b[0m\u001b[0;32mnot\u001b[0m\u001b[0;34m(\u001b[0m\u001b[0md\u001b[0m\u001b[0;34m%\u001b[0m\u001b[0mnum1\u001b[0m\u001b[0;34m==\u001b[0m\u001b[0;36m0\u001b[0m \u001b[0;32mand\u001b[0m \u001b[0md\u001b[0m\u001b[0;34m%\u001b[0m\u001b[0mnum2\u001b[0m\u001b[0;34m==\u001b[0m\u001b[0;36m0\u001b[0m\u001b[0;34m)\u001b[0m\u001b[0;34m)\u001b[0m\u001b[0;34m:\u001b[0m\u001b[0;34m\u001b[0m\u001b[0;34m\u001b[0m\u001b[0m\n\u001b[0m\u001b[1;32m      8\u001b[0m     \u001b[0md\u001b[0m\u001b[0;34m=\u001b[0m\u001b[0;34m+\u001b[0m\u001b[0;36m1\u001b[0m\u001b[0;34m\u001b[0m\u001b[0;34m\u001b[0m\u001b[0m\n\u001b[1;32m      9\u001b[0m   \u001b[0mprint\u001b[0m\u001b[0;34m(\u001b[0m\u001b[0;34m\"LCM is :\"\u001b[0m\u001b[0;34m,\u001b[0m\u001b[0md\u001b[0m\u001b[0;34m)\u001b[0m\u001b[0;34m\u001b[0m\u001b[0;34m\u001b[0m\u001b[0m\n",
            "\u001b[0;31mKeyboardInterrupt\u001b[0m: "
          ]
        }
      ]
    },
    {
      "cell_type": "code",
      "source": [
        "'''\n",
        "program to find GCD of 2 numbers\n",
        "'''\n",
        "\n",
        "def calcGCD(num1,num2):\n",
        "  d=min(num1,num2)\n",
        "  while(not(num1%d==0 and num2%d==0)):\n",
        "    d=d-1\n",
        "  print(\"GCD is :\",d)\n",
        "\n",
        "x=int(input(\"enter first value :\"))\n",
        "y=int(input(\"enter second value :\"))\n",
        "calcGCD(x,y)\n"
      ],
      "metadata": {
        "colab": {
          "base_uri": "https://localhost:8080/"
        },
        "id": "6gBgVtDfguNz",
        "outputId": "b73cae23-2faf-4e6e-94db-18e322897d11"
      },
      "execution_count": null,
      "outputs": [
        {
          "output_type": "stream",
          "name": "stdout",
          "text": [
            "enter first value :27\n",
            "enter second value :15\n",
            "GCD is : 3\n"
          ]
        }
      ]
    },
    {
      "cell_type": "code",
      "source": [
        "'''\n",
        "Q.: create a function which takes an parameter of string type\n",
        "    - accept the string in case if the string contains vowels(a,e,i,o,u)\n",
        "    - accept the string in case if we have vowels in even position of data\n",
        "'''\n",
        "\n",
        "def strCheck(mystring):\n",
        "  newstring=mystring.lower()\n",
        "  if 'a' in newstring or 'e' in newstring or 'i' in newstring or 'o' in newstring or 'u' in newstring:\n",
        "    print(\"String Accepted\")\n",
        "  else:\n",
        "    print(\"not accepted\")\n",
        "\n",
        "mystring=input(\"enter a string :\")\n",
        "strCheck(mystring)"
      ],
      "metadata": {
        "colab": {
          "base_uri": "https://localhost:8080/"
        },
        "id": "lb5nzlidiwE3",
        "outputId": "7d99a3ce-3833-4270-806e-63c2b82b6996"
      },
      "execution_count": null,
      "outputs": [
        {
          "output_type": "stream",
          "name": "stdout",
          "text": [
            "enter a string :futurense\n",
            "String Accepted\n"
          ]
        }
      ]
    },
    {
      "cell_type": "code",
      "source": [
        "def strCheck(mystring):\n",
        "  newstring=mystring.lower()\n",
        "  flag=0\n",
        "  for index in range(0,len(newstring),2):\n",
        "    if 'a'== newstring[index] or 'e'==newstring[index] or 'i'== newstring[index] or 'o' == newstring[index] or 'u' == newstring[index]:\n",
        "      pass\n",
        "    else:\n",
        "      flag=1\n",
        "      break\n",
        "  for index in range(1,len(newstring),2):\n",
        "    if 'a'== newstring[index] or 'e'==newstring[index] or 'i'== newstring[index] or 'o' == newstring[index] or 'u' == newstring[index]:\n",
        "      flag=1\n",
        "      break\n",
        "  \n",
        "  if flag==1:\n",
        "    print(\"String Rejected\")\n",
        "  else:  \n",
        "    print(\"String accepted\")\n",
        "\n",
        "\n",
        "mystring=input(\"enter a string :\")\n",
        "strCheck(mystring)"
      ],
      "metadata": {
        "colab": {
          "base_uri": "https://localhost:8080/"
        },
        "id": "T3yR_f0yk3rJ",
        "outputId": "3214736c-183b-4ea8-a95c-27220c5850ea"
      },
      "execution_count": null,
      "outputs": [
        {
          "output_type": "stream",
          "name": "stdout",
          "text": [
            "enter a string :odisas\n",
            "String accepted\n"
          ]
        }
      ]
    },
    {
      "cell_type": "code",
      "source": [
        "# types of argument\n",
        "'''\n",
        "Required argument:\n",
        "                required fixed number of arguments to be pass when calling the function\n",
        "positional argumet:\n",
        "                position of argument should be on proper position in function call\n",
        "Keyword argument:\n",
        "                pass values in key value format to specify the exact position\n",
        "positional + keyword:\n",
        "\n",
        "default argument:\n",
        "                provided at function declaration only\n",
        "variable length argument\n",
        "\n",
        "positional + variable length\n",
        "\n",
        "keyword variable length\n",
        "\n",
        "\n",
        "\n",
        "\n",
        "'''\n",
        "\n"
      ],
      "metadata": {
        "id": "7W-_Zzqashlc"
      },
      "execution_count": null,
      "outputs": []
    },
    {
      "cell_type": "code",
      "source": [
        "def find_gcd(x, y):\n",
        "    while(y):\n",
        "        x, y = y, x % y\n",
        "    return x"
      ],
      "metadata": {
        "id": "a6UJuPjSEkJl"
      },
      "execution_count": null,
      "outputs": []
    },
    {
      "cell_type": "code",
      "source": [
        "'''\n",
        "program to find LCM of n numbers\n",
        "'''\n",
        "\n",
        "def find_lcm(n,*args):\n",
        "  mylist=list(args)[0]\n",
        "  mul=1\n",
        "  for val in mylist:\n",
        "    mul=mul*val\n",
        "  return mul/n\n"
      ],
      "metadata": {
        "id": "OHq5mE6o04su"
      },
      "execution_count": null,
      "outputs": []
    },
    {
      "cell_type": "code",
      "source": [
        "x=input(\"enter values :\")\n",
        "x=x.split(\",\")\n",
        "x=[int(val) for val in x]\n",
        "gcd=find_gcd(x[0],x[1])\n",
        "for i in range(2,len(x)):\n",
        "  gcd=find_gcd(gcd,x[i])\n",
        "print(\"GCD is :\",gcd)\n",
        "lcm=find_lcm(gcd,x)\n",
        "print(\"LCM is :\",lcm)"
      ],
      "metadata": {
        "colab": {
          "base_uri": "https://localhost:8080/"
        },
        "id": "NxXtfEIyI8xd",
        "outputId": "36da0448-ea7d-4d43-b6a5-615be33109b4"
      },
      "execution_count": null,
      "outputs": [
        {
          "output_type": "stream",
          "name": "stdout",
          "text": [
            "enter values :1,2,3,4,5\n",
            "GCD is : 1\n",
            "LCM is : 120.0\n"
          ]
        }
      ]
    },
    {
      "cell_type": "code",
      "source": [
        "'''\n",
        "first class function vs high order function\n",
        "'''\n",
        "\n",
        "def number_add(x):\n",
        "  print(x)\n",
        "def new_function(out, data ):\n",
        "  print(\"hey inside the newFunc\",out)\n",
        "  data()\n",
        "\n",
        "new_function(\"lokesh\",number_add(10))"
      ],
      "metadata": {
        "colab": {
          "base_uri": "https://localhost:8080/",
          "height": 356
        },
        "id": "02E1OQ_xNfKc",
        "outputId": "6e5e9d94-7b65-4960-e6f7-1fcef19479a5"
      },
      "execution_count": null,
      "outputs": [
        {
          "output_type": "stream",
          "name": "stdout",
          "text": [
            "10\n",
            "hey inside the newFunc lokesh\n"
          ]
        },
        {
          "output_type": "error",
          "ename": "TypeError",
          "evalue": "ignored",
          "traceback": [
            "\u001b[0;31m---------------------------------------------------------------------------\u001b[0m",
            "\u001b[0;31mTypeError\u001b[0m                                 Traceback (most recent call last)",
            "\u001b[0;32m<ipython-input-111-b0fa4abf27a4>\u001b[0m in \u001b[0;36m<module>\u001b[0;34m\u001b[0m\n\u001b[1;32m     11\u001b[0m   \u001b[0mdata\u001b[0m\u001b[0;34m(\u001b[0m\u001b[0;34m)\u001b[0m\u001b[0;34m\u001b[0m\u001b[0;34m\u001b[0m\u001b[0m\n\u001b[1;32m     12\u001b[0m \u001b[0;34m\u001b[0m\u001b[0m\n\u001b[0;32m---> 13\u001b[0;31m \u001b[0mnew_function\u001b[0m\u001b[0;34m(\u001b[0m\u001b[0;34m\"lokesh\"\u001b[0m\u001b[0;34m,\u001b[0m\u001b[0mnumber_add\u001b[0m\u001b[0;34m(\u001b[0m\u001b[0;36m10\u001b[0m\u001b[0;34m)\u001b[0m\u001b[0;34m)\u001b[0m\u001b[0;34m\u001b[0m\u001b[0;34m\u001b[0m\u001b[0m\n\u001b[0m",
            "\u001b[0;32m<ipython-input-111-b0fa4abf27a4>\u001b[0m in \u001b[0;36mnew_function\u001b[0;34m(out, data)\u001b[0m\n\u001b[1;32m      9\u001b[0m \u001b[0;32mdef\u001b[0m \u001b[0mnew_function\u001b[0m\u001b[0;34m(\u001b[0m\u001b[0mout\u001b[0m\u001b[0;34m,\u001b[0m \u001b[0mdata\u001b[0m \u001b[0;34m)\u001b[0m\u001b[0;34m:\u001b[0m\u001b[0;34m\u001b[0m\u001b[0;34m\u001b[0m\u001b[0m\n\u001b[1;32m     10\u001b[0m   \u001b[0mprint\u001b[0m\u001b[0;34m(\u001b[0m\u001b[0;34m\"hey inside the newFunc\"\u001b[0m\u001b[0;34m,\u001b[0m\u001b[0mout\u001b[0m\u001b[0;34m)\u001b[0m\u001b[0;34m\u001b[0m\u001b[0;34m\u001b[0m\u001b[0m\n\u001b[0;32m---> 11\u001b[0;31m   \u001b[0mdata\u001b[0m\u001b[0;34m(\u001b[0m\u001b[0;34m)\u001b[0m\u001b[0;34m\u001b[0m\u001b[0;34m\u001b[0m\u001b[0m\n\u001b[0m\u001b[1;32m     12\u001b[0m \u001b[0;34m\u001b[0m\u001b[0m\n\u001b[1;32m     13\u001b[0m \u001b[0mnew_function\u001b[0m\u001b[0;34m(\u001b[0m\u001b[0;34m\"lokesh\"\u001b[0m\u001b[0;34m,\u001b[0m\u001b[0mnumber_add\u001b[0m\u001b[0;34m(\u001b[0m\u001b[0;36m10\u001b[0m\u001b[0;34m)\u001b[0m\u001b[0;34m)\u001b[0m\u001b[0;34m\u001b[0m\u001b[0;34m\u001b[0m\u001b[0m\n",
            "\u001b[0;31mTypeError\u001b[0m: 'int' object is not callable"
          ]
        }
      ]
    },
    {
      "cell_type": "code",
      "source": [
        "'''\n",
        "first class function vs high order function\n",
        "'''\n",
        "\n",
        "def number_add(x):\n",
        "  print(x)\n",
        "def new_function(out, data ):\n",
        "  print(\"hey inside the newFunc\",out)\n",
        "  data(out)\n",
        "\n",
        "new_function(\"lokesh\",number_add)"
      ],
      "metadata": {
        "id": "ie91NIABPfL2"
      },
      "execution_count": null,
      "outputs": []
    },
    {
      "cell_type": "code",
      "source": [
        "'''\n",
        "first class function vs high order function\n",
        "'''\n",
        "\n",
        "def number_add(x):\n",
        "  print(x)\n",
        "  return number_add\n",
        "def new_function(out, data ):\n",
        "  print(\"hey inside the newFunc\",out)\n",
        "  data(out)\n",
        "\n",
        "new_function(\"lokesh\",number_add(10))"
      ],
      "metadata": {
        "colab": {
          "base_uri": "https://localhost:8080/"
        },
        "id": "atJFtaYuQUBG",
        "outputId": "255949b4-ab23-427b-de18-583f151095d8"
      },
      "execution_count": null,
      "outputs": [
        {
          "output_type": "stream",
          "name": "stdout",
          "text": [
            "10\n",
            "hey inside the newFunc lokesh\n",
            "lokesh\n"
          ]
        }
      ]
    },
    {
      "cell_type": "code",
      "source": [
        "'''\n",
        "Lambda functions => these are called as anonymous function\n",
        "                    they don't have a name\n",
        "                    created with lambda keyword\n",
        "                    to make reable \n",
        "                    also known as inline function or oneline function\n",
        "                    lambda parameter : expression\n",
        "                    parameter => multiple \n",
        "                    expression => only 1\n",
        "                    return the expression value\n",
        "\n",
        "'''\n",
        "out=lambda x : x+10\n",
        "\n",
        "\n"
      ],
      "metadata": {
        "id": "Ok-W7BYtSVJy"
      },
      "execution_count": null,
      "outputs": []
    },
    {
      "cell_type": "code",
      "source": [
        "out(20)"
      ],
      "metadata": {
        "colab": {
          "base_uri": "https://localhost:8080/"
        },
        "id": "pGS2iKp1TaUU",
        "outputId": "86da420d-945e-4ea3-f2da-cfbcf7d052dd"
      },
      "execution_count": null,
      "outputs": [
        {
          "output_type": "execute_result",
          "data": {
            "text/plain": [
              "30"
            ]
          },
          "metadata": {},
          "execution_count": 115
        }
      ]
    },
    {
      "cell_type": "code",
      "source": [
        "val=list(map(lambda x:x**2,range(1,10)))\n",
        "print(val)"
      ],
      "metadata": {
        "colab": {
          "base_uri": "https://localhost:8080/"
        },
        "id": "Efl5pY_ITb2q",
        "outputId": "d9e6b555-60be-4774-845c-8356b6e5e8de"
      },
      "execution_count": null,
      "outputs": [
        {
          "output_type": "stream",
          "name": "stdout",
          "text": [
            "[1, 4, 9, 16, 25, 36, 49, 64, 81]\n"
          ]
        }
      ]
    },
    {
      "cell_type": "code",
      "source": [
        "val=list(map(lambda x:x[0],['hey','hello']))\n",
        "print(val)"
      ],
      "metadata": {
        "colab": {
          "base_uri": "https://localhost:8080/"
        },
        "id": "5YUTQeU8Vhsi",
        "outputId": "d37c4b30-e189-4a36-b2a4-1b89aaa6c7f6"
      },
      "execution_count": null,
      "outputs": [
        {
          "output_type": "stream",
          "name": "stdout",
          "text": [
            "['h', 'h']\n"
          ]
        }
      ]
    },
    {
      "cell_type": "code",
      "source": [
        "val=list(map(lambda x: x.split(\" \"),['hey','hello']))\n",
        "print(val)"
      ],
      "metadata": {
        "colab": {
          "base_uri": "https://localhost:8080/"
        },
        "id": "qE9F6eD5WbxE",
        "outputId": "183779ce-c31a-4b36-c80a-4e646ba3ea64"
      },
      "execution_count": null,
      "outputs": [
        {
          "output_type": "stream",
          "name": "stdout",
          "text": [
            "[['hey'], ['hello']]\n"
          ]
        }
      ]
    },
    {
      "cell_type": "code",
      "source": [
        "val=tuple(filter(lambda x: x[0]%2==0,[(10,3),(4,3),(1,7)]))\n",
        "print(val)"
      ],
      "metadata": {
        "colab": {
          "base_uri": "https://localhost:8080/"
        },
        "id": "EOYZ7QdpXSw2",
        "outputId": "5b15a39b-df7f-4405-e97f-da84b86aebbc"
      },
      "execution_count": null,
      "outputs": [
        {
          "output_type": "stream",
          "name": "stdout",
          "text": [
            "((10, 3), (4, 3))\n"
          ]
        }
      ]
    },
    {
      "cell_type": "code",
      "source": [
        "val=dict(filter(lambda x: x[0]%2==0,[(10,3),(4,3),(1,7)]))\n",
        "print(val)"
      ],
      "metadata": {
        "colab": {
          "base_uri": "https://localhost:8080/"
        },
        "id": "agtiX1auYL8r",
        "outputId": "cc628e67-d0c2-429a-bd1f-deb5a40542dc"
      },
      "execution_count": null,
      "outputs": [
        {
          "output_type": "stream",
          "name": "stdout",
          "text": [
            "{10: 3, 4: 3}\n"
          ]
        }
      ]
    },
    {
      "cell_type": "code",
      "source": [
        "mylist=[{\"name\":\"Lokesh\",\"marks\":[70,40,50]},{\"name\":\"prateek\",\"marks\":[60,40,50]},{\"name\":\"rajesh\",\"marks\":[20,40,30]}]"
      ],
      "metadata": {
        "id": "q0R5ZUmwf8xt"
      },
      "execution_count": null,
      "outputs": []
    },
    {
      "cell_type": "code",
      "source": [
        "(lambda x: x+20)(20)"
      ],
      "metadata": {
        "colab": {
          "base_uri": "https://localhost:8080/"
        },
        "id": "VkseSoXkhfms",
        "outputId": "894bb74d-03f8-4ed1-c109-563fe775707b"
      },
      "execution_count": null,
      "outputs": [
        {
          "output_type": "execute_result",
          "data": {
            "text/plain": [
              "40"
            ]
          },
          "metadata": {},
          "execution_count": 141
        }
      ]
    },
    {
      "cell_type": "code",
      "source": [
        "for val in mylist:\n",
        "  print(val[\"marks\"])"
      ],
      "metadata": {
        "colab": {
          "base_uri": "https://localhost:8080/"
        },
        "id": "_3Uw712Phy7m",
        "outputId": "90cc11f2-de51-40f6-8cf7-840e11ea5311"
      },
      "execution_count": null,
      "outputs": [
        {
          "output_type": "stream",
          "name": "stdout",
          "text": [
            "[70, 40, 50]\n",
            "[60, 40, 50]\n",
            "{'name': 'Lokesh', 'marks': [70, 40, 50]}\n"
          ]
        }
      ]
    },
    {
      "cell_type": "code",
      "source": [
        "'''\n",
        "create a lambda function that will calculate the average of the marks\n",
        "'''\n"
      ],
      "metadata": {
        "colab": {
          "base_uri": "https://localhost:8080/",
          "height": 269
        },
        "id": "y7_gXaSfiemG",
        "outputId": "b3e62451-9299-4746-966a-752444196814"
      },
      "execution_count": null,
      "outputs": [
        {
          "output_type": "stream",
          "name": "stderr",
          "text": [
            "<>:5: SyntaxWarning: 'generator' object is not callable; perhaps you missed a comma?\n",
            "<>:5: SyntaxWarning: 'generator' object is not callable; perhaps you missed a comma?\n",
            "<ipython-input-159-6e2a91508e46>:5: SyntaxWarning: 'generator' object is not callable; perhaps you missed a comma?\n",
            "  (lambda mylist:sum(key[\"marks\"]) for key in mylist ) (mylist)\n"
          ]
        },
        {
          "output_type": "error",
          "ename": "TypeError",
          "evalue": "ignored",
          "traceback": [
            "\u001b[0;31m---------------------------------------------------------------------------\u001b[0m",
            "\u001b[0;31mTypeError\u001b[0m                                 Traceback (most recent call last)",
            "\u001b[0;32m<ipython-input-159-6e2a91508e46>\u001b[0m in \u001b[0;36m<module>\u001b[0;34m\u001b[0m\n\u001b[1;32m      3\u001b[0m '''\n\u001b[1;32m      4\u001b[0m \u001b[0;34m\u001b[0m\u001b[0m\n\u001b[0;32m----> 5\u001b[0;31m \u001b[0;34m(\u001b[0m\u001b[0;32mlambda\u001b[0m \u001b[0mmylist\u001b[0m\u001b[0;34m:\u001b[0m\u001b[0msum\u001b[0m\u001b[0;34m(\u001b[0m\u001b[0mkey\u001b[0m\u001b[0;34m[\u001b[0m\u001b[0;34m\"marks\"\u001b[0m\u001b[0;34m]\u001b[0m\u001b[0;34m)\u001b[0m \u001b[0;32mfor\u001b[0m \u001b[0mkey\u001b[0m \u001b[0;32min\u001b[0m \u001b[0mmylist\u001b[0m \u001b[0;34m)\u001b[0m \u001b[0;34m(\u001b[0m\u001b[0mmylist\u001b[0m\u001b[0;34m)\u001b[0m\u001b[0;34m\u001b[0m\u001b[0;34m\u001b[0m\u001b[0m\n\u001b[0m",
            "\u001b[0;31mTypeError\u001b[0m: 'generator' object is not callable"
          ]
        }
      ]
    },
    {
      "cell_type": "code",
      "source": [
        "(lambda x : sum(x)/len(x))([10,20,30])"
      ],
      "metadata": {
        "colab": {
          "base_uri": "https://localhost:8080/"
        },
        "id": "q5zMMLHBj0zn",
        "outputId": "d95b3c0c-d142-41f6-b8b0-dd505017c78d"
      },
      "execution_count": null,
      "outputs": [
        {
          "output_type": "execute_result",
          "data": {
            "text/plain": [
              "20.0"
            ]
          },
          "metadata": {},
          "execution_count": 158
        }
      ]
    },
    {
      "cell_type": "code",
      "source": [
        "mydict={\"avg\":(lambda x : sum(x)/len(x))}\n",
        "\n"
      ],
      "metadata": {
        "id": "AFt4GELQkbLi"
      },
      "execution_count": null,
      "outputs": []
    },
    {
      "cell_type": "code",
      "source": [
        "mydict[\"avg\"]([10,20,30])"
      ],
      "metadata": {
        "colab": {
          "base_uri": "https://localhost:8080/"
        },
        "id": "Uy-KrpHjmNnD",
        "outputId": "17ec2fe4-dffe-44d1-b846-9ed2b9e28bd0"
      },
      "execution_count": null,
      "outputs": [
        {
          "output_type": "execute_result",
          "data": {
            "text/plain": [
              "20.0"
            ]
          },
          "metadata": {},
          "execution_count": 169
        }
      ]
    },
    {
      "cell_type": "code",
      "source": [],
      "metadata": {
        "id": "4q0R9HncmbqQ"
      },
      "execution_count": null,
      "outputs": []
    },
    {
      "cell_type": "code",
      "source": [
        "mydict[\"minmarks\"]=lambda x: min(x) \n",
        "mydict[\"maxmarks\"]=lambda x: max(x) \n"
      ],
      "metadata": {
        "id": "I8qu6--xnBdk"
      },
      "execution_count": null,
      "outputs": []
    },
    {
      "cell_type": "code",
      "source": [
        "mydict[\"minmarks\"]([10,20,30])"
      ],
      "metadata": {
        "colab": {
          "base_uri": "https://localhost:8080/"
        },
        "id": "Pf-MO6v0nQdc",
        "outputId": "5cfad314-f3f8-4480-cc7f-0b50d47ed460"
      },
      "execution_count": null,
      "outputs": [
        {
          "output_type": "execute_result",
          "data": {
            "text/plain": [
              "10"
            ]
          },
          "metadata": {},
          "execution_count": 177
        }
      ]
    },
    {
      "cell_type": "code",
      "source": [
        "mydict[\"maxmarks\"]([10,20,30])"
      ],
      "metadata": {
        "colab": {
          "base_uri": "https://localhost:8080/"
        },
        "id": "XnG6sJnsnkoY",
        "outputId": "dfcd00f6-48dd-4c63-8d65-209074b1d308"
      },
      "execution_count": null,
      "outputs": [
        {
          "output_type": "execute_result",
          "data": {
            "text/plain": [
              "30"
            ]
          },
          "metadata": {},
          "execution_count": 179
        }
      ]
    },
    {
      "cell_type": "code",
      "source": [],
      "metadata": {
        "id": "TdH0GqwZpsf1"
      },
      "execution_count": null,
      "outputs": []
    },
    {
      "cell_type": "code",
      "source": [
        "'''\n",
        "create a lambda function to get the table of any number\n",
        "'''\n",
        "\n",
        "st=\"\\n\".join(list(map(lambda x: str(2*x),range(1,11))))\n",
        "print(st,type(st))"
      ],
      "metadata": {
        "colab": {
          "base_uri": "https://localhost:8080/"
        },
        "id": "_J_tV4maovtx",
        "outputId": "5b868fc8-63ef-46e4-a799-444e1a66f1b0"
      },
      "execution_count": null,
      "outputs": [
        {
          "output_type": "stream",
          "name": "stdout",
          "text": [
            "2\n",
            "4\n",
            "6\n",
            "8\n",
            "10\n",
            "12\n",
            "14\n",
            "16\n",
            "18\n",
            "20 <class 'str'>\n"
          ]
        }
      ]
    },
    {
      "cell_type": "code",
      "source": [
        "num = [int(input(\"Enter a number: \"))]\n",
        "\n",
        "# let's create our lambda function for the table\n",
        "table = list(map(lambda x, y: x * y, list(range(1, 11)), num *10))\n",
        "\n",
        "print(table)"
      ],
      "metadata": {
        "colab": {
          "base_uri": "https://localhost:8080/"
        },
        "id": "ekSwdAESEZS5",
        "outputId": "0ace3b21-d365-454e-8fb8-5099c04b1659"
      },
      "execution_count": null,
      "outputs": [
        {
          "output_type": "stream",
          "name": "stdout",
          "text": [
            "Enter a number: 5\n",
            "[5, 10, 15, 20, 25, 30, 35, 40, 45, 50]\n"
          ]
        }
      ]
    },
    {
      "cell_type": "code",
      "source": [
        "st=[]\n",
        "n=5\n",
        "for num in range(2,n):\n",
        "  st=[]\n",
        "  for val in range(1,11):\n",
        "    st.append(str(num*val))\n",
        "print(st)"
      ],
      "metadata": {
        "colab": {
          "base_uri": "https://localhost:8080/"
        },
        "id": "8xayRlN8punG",
        "outputId": "9573060f-49bf-46f0-a0cb-ea62696d390e"
      },
      "execution_count": null,
      "outputs": [
        {
          "output_type": "stream",
          "name": "stdout",
          "text": [
            "['4', '8', '12', '16', '20', '24', '28', '32', '36', '40']\n"
          ]
        }
      ]
    }
  ]
}