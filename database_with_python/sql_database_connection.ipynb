{
 "cells": [
  {
   "cell_type": "code",
   "execution_count": 4,
   "id": "89c1d89d",
   "metadata": {},
   "outputs": [
    {
     "name": "stdout",
     "output_type": "stream",
     "text": [
      "Requirement already satisfied: mysql-connector-python in c:\\users\\futurense.mile-bl-4171-la\\anaconda3\\lib\\site-packages (8.0.32)\n",
      "Requirement already satisfied: protobuf<=3.20.3,>=3.11.0 in c:\\users\\futurense.mile-bl-4171-la\\anaconda3\\lib\\site-packages (from mysql-connector-python) (3.20.3)\n",
      "Note: you may need to restart the kernel to use updated packages.\n"
     ]
    }
   ],
   "source": [
    "pip install mysql-connector-python \n"
   ]
  },
  {
   "cell_type": "code",
   "execution_count": 6,
   "id": "bf6e67c5",
   "metadata": {},
   "outputs": [],
   "source": [
    "import mysql.connector\n"
   ]
  },
  {
   "cell_type": "code",
   "execution_count": 8,
   "id": "27a3abcc",
   "metadata": {},
   "outputs": [
    {
     "name": "stdout",
     "output_type": "stream",
     "text": [
      "<mysql.connector.connection_cext.CMySQLConnection object at 0x000002559495DD90>\n"
     ]
    }
   ],
   "source": [
    "# Importing module\n",
    "import mysql.connector\n",
    "\n",
    "# Creating connection object\n",
    "mydb = mysql.connector.connect(\n",
    "\thost = \"localhost\",\n",
    "\tuser = \"root\",\n",
    "\tpassword = \"root\"\n",
    ")\n",
    "\n",
    "# Printing the connection object\n",
    "print(mydb)\n"
   ]
  },
  {
   "cell_type": "code",
   "execution_count": 16,
   "id": "dcead1b4",
   "metadata": {},
   "outputs": [
    {
     "name": "stdout",
     "output_type": "stream",
     "text": [
      "('classicmodels',)\n",
      "('daytwoexercise',)\n",
      "('db',)\n",
      "('information_schema',)\n",
      "('mysql',)\n",
      "('performance_schema',)\n",
      "('sakila',)\n",
      "('sys',)\n",
      "('walmart',)\n",
      "('world',)\n"
     ]
    }
   ],
   "source": [
    "# Importing module\n",
    "import mysql.connector\n",
    "\n",
    "# Creating connection object\n",
    "mydb = mysql.connector.connect(\n",
    "\thost = \"localhost\",\n",
    "\tuser = \"root\",\n",
    "\tpassword = \"root\"\n",
    ")\n",
    "\n",
    "cursor = mydb.cursor()\n",
    "\n",
    "# Show database\n",
    "cursor.execute(\"SHOW DATABASES\")\n",
    "\n",
    "for x in cursor:\n",
    "    print(x)\n"
   ]
  },
  {
   "cell_type": "code",
   "execution_count": 50,
   "id": "00d150c7",
   "metadata": {},
   "outputs": [
    {
     "name": "stdout",
     "output_type": "stream",
     "text": [
      "0       A Coruña (La Coruña)\n",
      "1                     Aachen\n",
      "2                    Aalborg\n",
      "3                        Aba\n",
      "4                     Abadan\n",
      "                ...         \n",
      "4074                   Šahty\n",
      "4075                Šiauliai\n",
      "4076                  Šostka\n",
      "4077               Štšolkovo\n",
      "4078                   Šumen\n",
      "Name: 1, Length: 4079, dtype: object\n"
     ]
    }
   ],
   "source": [
    "# Importing module\n",
    "import mysql.connector\n",
    "import pandas as pd\n",
    "\n",
    "# Creating connection object\n",
    "mydb = mysql.connector.connect(\n",
    "\thost = \"localhost\",\n",
    "\tuser = \"root\",\n",
    "\tpassword = \"root\"\n",
    ")\n",
    "\n",
    "cursor = mydb.cursor()\n",
    "\n",
    "#create query \n",
    "query1=\"show databases;\"\n",
    "query2=\"use world;\"\n",
    "query3=\"show tables;\"\n",
    "query4=\"select * from city;\"\n",
    "\n",
    "# Show database\n",
    "# cursor.execute(query1)\n",
    "cursor.execute(query2)\n",
    "\n",
    "# cursor.execute(query3)\n",
    "cursor.execute(query4)\n",
    "\n",
    "# for x in cursor:\n",
    "#     print(x)\n",
    "\n",
    "df=pd.DataFrame(cursor)\n",
    "s1=df[1].copy().squeeze()\n",
    "s1.sort_values(ignore_index=True,inplace=True)\n",
    "\n",
    "print(s1)"
   ]
  },
  {
   "cell_type": "code",
   "execution_count": null,
   "id": "c6bfaa2e",
   "metadata": {},
   "outputs": [],
   "source": []
  },
  {
   "cell_type": "code",
   "execution_count": null,
   "id": "42327c3c",
   "metadata": {},
   "outputs": [],
   "source": []
  }
 ],
 "metadata": {
  "kernelspec": {
   "display_name": "Python 3 (ipykernel)",
   "language": "python",
   "name": "python3"
  },
  "language_info": {
   "codemirror_mode": {
    "name": "ipython",
    "version": 3
   },
   "file_extension": ".py",
   "mimetype": "text/x-python",
   "name": "python",
   "nbconvert_exporter": "python",
   "pygments_lexer": "ipython3",
   "version": "3.9.13"
  }
 },
 "nbformat": 4,
 "nbformat_minor": 5
}
