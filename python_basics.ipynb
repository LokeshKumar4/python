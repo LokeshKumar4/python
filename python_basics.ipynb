{
  "cells": [
    {
      "cell_type": "markdown",
      "metadata": {
        "id": "na4v6HcWCCSY"
      },
      "source": [
        "**Training - Python**\n",
        "\n",
        "bit.ly/3la7Wly"
      ]
    },
    {
      "cell_type": "markdown",
      "metadata": {
        "id": "9B7nkjqsFvsy"
      },
      "source": [
        "**python** is \n",
        "  simple\n",
        "  dynamic typed \n",
        "\n",
        "\n",
        "variables:\n",
        "mutuable : dictionary , list , set\n",
        "immutable : int , float , string , tuple , \n"
      ]
    },
    {
      "cell_type": "code",
      "execution_count": null,
      "metadata": {
        "colab": {
          "base_uri": "https://localhost:8080/"
        },
        "id": "HzL_ktjuCAXt",
        "outputId": "44d75b7b-2936-4d01-a90d-f9a4283dc33c"
      },
      "outputs": [
        {
          "name": "stdout",
          "output_type": "stream",
          "text": [
            "Hello world-welcome to python\n"
          ]
        }
      ],
      "source": [
        "print(\"Hello world\",end=\"-\")\n",
        "print (\"welcome to python\")"
      ]
    },
    {
      "cell_type": "code",
      "execution_count": null,
      "metadata": {
        "colab": {
          "base_uri": "https://localhost:8080/"
        },
        "id": "zcc3nnVJHdrz",
        "outputId": "f10a4851-09e4-485f-e136-59e9c9f2c585"
      },
      "outputs": [
        {
          "name": "stdout",
          "output_type": "stream",
          "text": [
            "100 9796256\n"
          ]
        }
      ],
      "source": [
        "age=100\n",
        "print(age, id(age))\n"
      ]
    },
    {
      "cell_type": "code",
      "execution_count": null,
      "metadata": {
        "colab": {
          "base_uri": "https://localhost:8080/"
        },
        "id": "CLX2fVLLH7rw",
        "outputId": "0945883f-01bc-42ac-9782-bca029c47d8d"
      },
      "outputs": [
        {
          "name": "stdout",
          "output_type": "stream",
          "text": [
            "18 9793632\n",
            "<class 'int'>\n"
          ]
        }
      ],
      "source": [
        "print(age, id(age))\n",
        "print(type(age))"
      ]
    },
    {
      "cell_type": "code",
      "execution_count": null,
      "metadata": {
        "colab": {
          "base_uri": "https://localhost:8080/"
        },
        "id": "FGI3wKO6IDIR",
        "outputId": "324a83e2-f9d6-4f40-cbb1-47406970c0a6"
      },
      "outputs": [
        {
          "name": "stdout",
          "output_type": "stream",
          "text": [
            "<class 'str'>\n"
          ]
        }
      ],
      "source": [
        "name=\"LOkesh Kumar\"\n",
        "print(type(name))"
      ]
    },
    {
      "cell_type": "code",
      "execution_count": null,
      "metadata": {
        "colab": {
          "base_uri": "https://localhost:8080/"
        },
        "id": "kzGOIBiyILCN",
        "outputId": "eb9f23e7-3e58-408d-baca-aa3c72a3ae9a"
      },
      "outputs": [
        {
          "name": "stdout",
          "output_type": "stream",
          "text": [
            "18 9793632\n"
          ]
        }
      ],
      "source": [
        "age = 18\n",
        "print(age,id(age))"
      ]
    },
    {
      "cell_type": "code",
      "execution_count": null,
      "metadata": {
        "colab": {
          "base_uri": "https://localhost:8080/"
        },
        "id": "Pxv7NIurJUi-",
        "outputId": "5011c11c-0637-496f-ffc4-9806170eb63b"
      },
      "outputs": [
        {
          "name": "stdout",
          "output_type": "stream",
          "text": [
            "18 9793632\n"
          ]
        }
      ],
      "source": [
        "mynumber=18\n",
        "print(mynumber,id(mynumber))"
      ]
    },
    {
      "cell_type": "markdown",
      "metadata": {
        "id": "82kk1NJOIrPG"
      },
      "source": [
        "**Call by object reference**\n",
        "age= 100\n",
        "age -> variable object of int class , memory address\n"
      ]
    },
    {
      "cell_type": "code",
      "execution_count": null,
      "metadata": {
        "colab": {
          "base_uri": "https://localhost:8080/"
        },
        "id": "iSomAmIqJ_qa",
        "outputId": "725f03bd-1e57-44f1-d98e-e90b65bc5af9"
      },
      "outputs": [
        {
          "name": "stdout",
          "output_type": "stream",
          "text": [
            "single line comment in python\n"
          ]
        }
      ],
      "source": [
        "#commenting \n",
        "print(\"single line comment in python\")"
      ]
    },
    {
      "cell_type": "code",
      "execution_count": null,
      "metadata": {
        "colab": {
          "base_uri": "https://localhost:8080/"
        },
        "id": "NGKXoUdLKsIH",
        "outputId": "21a23109-a037-43e1-af77-436d23dca514"
      },
      "outputs": [
        {
          "name": "stdout",
          "output_type": "stream",
          "text": [
            "multi line comment \n"
          ]
        }
      ],
      "source": [
        "'''\n",
        " multi \n",
        "line \n",
        "comment \n",
        "'''\n",
        "print(\"multi line comment \")"
      ]
    },
    {
      "cell_type": "code",
      "execution_count": null,
      "metadata": {
        "colab": {
          "base_uri": "https://localhost:8080/"
        },
        "id": "KjzZz_a7LK98",
        "outputId": "c931ecf2-fc70-4e09-dc9e-1731b689ae99"
      },
      "outputs": [
        {
          "name": "stdout",
          "output_type": "stream",
          "text": [
            " street \n",
            "area \n",
            "city\n",
            "\n"
          ]
        }
      ],
      "source": [
        "address= \"\"\" street \n",
        "area \n",
        "city\n",
        "\"\"\"\n",
        "print ( address)"
      ]
    },
    {
      "cell_type": "markdown",
      "metadata": {
        "id": "1QShkG1DCA4R"
      },
      "source": [
        "Formatting the string "
      ]
    },
    {
      "cell_type": "code",
      "execution_count": null,
      "metadata": {
        "colab": {
          "base_uri": "https://localhost:8080/"
        },
        "id": "xtep8VJrLiZX",
        "outputId": "60745078-f563-483a-eafe-a57b1bf20864"
      },
      "outputs": [
        {
          "name": "stdout",
          "output_type": "stream",
          "text": [
            "hey my company is Futurense and email is :  lokeshkumar@futurensetech.com\n"
          ]
        }
      ],
      "source": [
        "myuser =\"Lokesh Kumar\"\n",
        "email=\"lokeshkumar@futurensetech.com\"\n",
        "company =\"Futurense\"\n",
        "print(\"hey my company is\",company , \"and email is : \", email)"
      ]
    },
    {
      "cell_type": "code",
      "execution_count": null,
      "metadata": {
        "colab": {
          "base_uri": "https://localhost:8080/"
        },
        "id": "S1Gt2BAEL-I1",
        "outputId": "49b7de30-6c0f-48fb-b635-a4257adca651"
      },
      "outputs": [
        {
          "name": "stdout",
          "output_type": "stream",
          "text": [
            "hey my company is Futurense and my email id is lokeshkumar@futurensetech.com\n"
          ]
        }
      ],
      "source": [
        "print(f\"hey my company is {company} and my email id is {email}\")"
      ]
    },
    {
      "cell_type": "code",
      "execution_count": null,
      "metadata": {
        "colab": {
          "base_uri": "https://localhost:8080/"
        },
        "id": "ZWJzSUztMVmB",
        "outputId": "81d74e3c-ebca-4888-98f8-9d33841c615e"
      },
      "outputs": [
        {
          "name": "stdout",
          "output_type": "stream",
          "text": [
            "hey user Lokesh\n",
            "hey user Lokesh\n"
          ]
        }
      ],
      "source": [
        "username= \"Lokesh\"\n",
        "greeting=f\"hey user {username}\"\n",
        "print(greeting)\n",
        "username=\"mayank\"\n",
        "print(greeting)"
      ]
    },
    {
      "cell_type": "code",
      "execution_count": null,
      "metadata": {
        "colab": {
          "base_uri": "https://localhost:8080/"
        },
        "id": "bRjzcZkkNcTv",
        "outputId": "bc770de6-19c7-4f4e-899b-da438b9dafe1"
      },
      "outputs": [
        {
          "name": "stdout",
          "output_type": "stream",
          "text": [
            "hey user mayank\n"
          ]
        }
      ],
      "source": [
        "print(\"hey user {}\".format(username))"
      ]
    },
    {
      "cell_type": "code",
      "execution_count": null,
      "metadata": {
        "colab": {
          "base_uri": "https://localhost:8080/"
        },
        "id": "pHn71QtuNpvZ",
        "outputId": "3b92060b-2bb0-41b3-f98b-b53965aad3fd"
      },
      "outputs": [
        {
          "name": "stdout",
          "output_type": "stream",
          "text": [
            "hey user jeet\n"
          ]
        }
      ],
      "source": [
        "print(\"hey user {}\".format(\"jeet\"))"
      ]
    },
    {
      "cell_type": "code",
      "execution_count": null,
      "metadata": {
        "colab": {
          "base_uri": "https://localhost:8080/"
        },
        "id": "SJvDi2BINzC5",
        "outputId": "aa29ede1-f355-49af-d24a-a323db5687bc"
      },
      "outputs": [
        {
          "name": "stdout",
          "output_type": "stream",
          "text": [
            "hey user jeet , mail id is jeet@gmail.com\n"
          ]
        }
      ],
      "source": [
        "print(\"hey user {} , mail id is {}\".format(\"jeet\",\"jeet@gmail.com\"))"
      ]
    },
    {
      "cell_type": "code",
      "execution_count": null,
      "metadata": {
        "colab": {
          "base_uri": "https://localhost:8080/"
        },
        "id": "JmQ3Kl_uOA8J",
        "outputId": "ffa8400e-8e19-43dd-f88f-700f03228a92"
      },
      "outputs": [
        {
          "name": "stdout",
          "output_type": "stream",
          "text": [
            "hey user jeet@gmail.com , mail id is jeet\n"
          ]
        }
      ],
      "source": [
        "print(\"hey user {1} , mail id is {0}\".format(\"jeet\",\"jeet@gmail.com\"))"
      ]
    },
    {
      "cell_type": "code",
      "execution_count": null,
      "metadata": {
        "colab": {
          "base_uri": "https://localhost:8080/"
        },
        "id": "sow_N3vzOK1N",
        "outputId": "75a5e142-5f23-4a1d-d68c-d2aae1b35731"
      },
      "outputs": [
        {
          "name": "stdout",
          "output_type": "stream",
          "text": [
            "hey user jeet@gmail.com , mail id is jeet@gmail.com\n"
          ]
        }
      ],
      "source": [
        "print(\"hey user {1} , mail id is {1}\".format(\"jeet\",\"jeet@gmail.com\"))"
      ]
    },
    {
      "cell_type": "markdown",
      "metadata": {
        "id": "mzhw-NlsOgeu"
      },
      "source": [
        "\n",
        "assignment :\n",
        "use the formating for convering the floating number into string"
      ]
    },
    {
      "cell_type": "code",
      "execution_count": null,
      "metadata": {
        "colab": {
          "base_uri": "https://localhost:8080/"
        },
        "id": "qcMSbxd1QHoB",
        "outputId": "e9cb866c-3140-4cf8-bc8b-971b476a34ae"
      },
      "outputs": [
        {
          "name": "stdout",
          "output_type": "stream",
          "text": [
            "<class 'float'>\n",
            "<class 'str'>\n",
            "3.14\n"
          ]
        }
      ],
      "source": [
        "num=3.14\n",
        "print(type(num))\n",
        "\n",
        "mystring= f\"{num}\"\n",
        "print( type(mystring))\n",
        "print(mystring)\n",
        "\n"
      ]
    },
    {
      "cell_type": "markdown",
      "metadata": {
        "id": "ZdmWf8EITOSO"
      },
      "source": [
        "**Operators**\n",
        "\n",
        "'''\n",
        "symbol=> functionary \n",
        "\n",
        "1+2 => +  1,2 operator \n",
        "\n",
        "arithmetic \n",
        "assignment\n",
        "comparison\n",
        "logical operator\n",
        "bitwise \n",
        " \n",
        "'''"
      ]
    },
    {
      "cell_type": "code",
      "execution_count": null,
      "metadata": {
        "colab": {
          "base_uri": "https://localhost:8080/"
        },
        "id": "xKD9FxY3TLRF",
        "outputId": "3e408749-ebf2-44df-9d7b-ba117ad21d20"
      },
      "outputs": [
        {
          "data": {
            "text/plain": [
              "3.3333333333333335"
            ]
          },
          "execution_count": 34,
          "metadata": {},
          "output_type": "execute_result"
        }
      ],
      "source": [
        "20/6"
      ]
    },
    {
      "cell_type": "code",
      "execution_count": null,
      "metadata": {
        "colab": {
          "base_uri": "https://localhost:8080/"
        },
        "id": "vBri5F33TzPk",
        "outputId": "a719fbf3-0185-4ec6-8880-0c321c8b0c22"
      },
      "outputs": [
        {
          "data": {
            "text/plain": [
              "3"
            ]
          },
          "execution_count": 35,
          "metadata": {},
          "output_type": "execute_result"
        }
      ],
      "source": [
        "20//6\n"
      ]
    },
    {
      "cell_type": "code",
      "execution_count": null,
      "metadata": {
        "colab": {
          "base_uri": "https://localhost:8080/"
        },
        "id": "edxosksQT2Kv",
        "outputId": "a7c37ec9-29dd-408a-cf56-29ac0faf7aed"
      },
      "outputs": [
        {
          "data": {
            "text/plain": [
              "8"
            ]
          },
          "execution_count": 36,
          "metadata": {},
          "output_type": "execute_result"
        }
      ],
      "source": [
        "2**3"
      ]
    },
    {
      "cell_type": "code",
      "execution_count": null,
      "metadata": {
        "colab": {
          "base_uri": "https://localhost:8080/"
        },
        "id": "3OslcPZWT4yf",
        "outputId": "7a676966-c841-4f0a-e138-d1e1c7844029"
      },
      "outputs": [
        {
          "data": {
            "text/plain": [
              "2"
            ]
          },
          "execution_count": 37,
          "metadata": {},
          "output_type": "execute_result"
        }
      ],
      "source": [
        "20%3"
      ]
    },
    {
      "cell_type": "code",
      "execution_count": null,
      "metadata": {
        "colab": {
          "base_uri": "https://localhost:8080/"
        },
        "id": "Z5AnMRmaT7hE",
        "outputId": "d757ec0d-403a-4c0d-c487-60c1029038e1"
      },
      "outputs": [
        {
          "data": {
            "text/plain": [
              "5.5"
            ]
          },
          "execution_count": 38,
          "metadata": {},
          "output_type": "execute_result"
        }
      ],
      "source": [
        "2*3//2*5/2-2\n"
      ]
    },
    {
      "cell_type": "markdown",
      "metadata": {
        "id": "pDsTUi0WUsow"
      },
      "source": [
        "priority order arithmetic\n",
        "\n",
        "** exponent  ( OOE - right to left )\n",
        "/ * // % * (order of execution - left to right)\n",
        "+ -  least priority OOE - left to right \n",
        "\n",
        "\n",
        "\n"
      ]
    },
    {
      "cell_type": "code",
      "execution_count": null,
      "metadata": {
        "colab": {
          "base_uri": "https://localhost:8080/"
        },
        "id": "pQhMDQ9dUX3Q",
        "outputId": "713d4f25-5fda-44c1-d6d6-38569bf8e0cd"
      },
      "outputs": [
        {
          "data": {
            "text/plain": [
              "512"
            ]
          },
          "execution_count": 39,
          "metadata": {},
          "output_type": "execute_result"
        }
      ],
      "source": [
        "2**3**2"
      ]
    },
    {
      "cell_type": "code",
      "execution_count": null,
      "metadata": {
        "colab": {
          "base_uri": "https://localhost:8080/"
        },
        "id": "LS8W2H0PVe46",
        "outputId": "b10228d2-6d08-4b00-defc-412db9e9b0d1"
      },
      "outputs": [
        {
          "data": {
            "text/plain": [
              "15"
            ]
          },
          "execution_count": 43,
          "metadata": {},
          "output_type": "execute_result"
        }
      ],
      "source": [
        "#Assignment \n",
        "\n",
        "#literal \n",
        "x=10\n",
        "x=x+5 # right side expression \n",
        "x"
      ]
    },
    {
      "cell_type": "code",
      "execution_count": null,
      "metadata": {
        "colab": {
          "base_uri": "https://localhost:8080/"
        },
        "id": "UzIvDxp_Vugs",
        "outputId": "0c7ff339-d698-43f5-e54b-442670d502ba"
      },
      "outputs": [
        {
          "data": {
            "text/plain": [
              "20"
            ]
          },
          "execution_count": 44,
          "metadata": {},
          "output_type": "execute_result"
        }
      ],
      "source": [
        "x+=5\n",
        "x"
      ]
    },
    {
      "cell_type": "code",
      "execution_count": null,
      "metadata": {
        "colab": {
          "base_uri": "https://localhost:8080/"
        },
        "id": "93Pk6X-mV4Ze",
        "outputId": "2a3a4566-af1c-46cb-b2f4-e2e826944a5e"
      },
      "outputs": [
        {
          "name": "stdout",
          "output_type": "stream",
          "text": [
            "True\n",
            "10\n"
          ]
        }
      ],
      "source": [
        "# comparison \n",
        "\n",
        "x= 10 \n",
        "\n",
        "if x==10 :\n",
        "  print(\"True\")\n",
        "y=10\n",
        "if x==y:\n",
        "  print(y)"
      ]
    },
    {
      "cell_type": "code",
      "execution_count": null,
      "metadata": {
        "colab": {
          "base_uri": "https://localhost:8080/"
        },
        "id": "zQUP4OR4WZTt",
        "outputId": "1d642191-b54f-4dfb-da19-30166d35e149"
      },
      "outputs": [
        {
          "name": "stdout",
          "output_type": "stream",
          "text": [
            "True\n"
          ]
        }
      ],
      "source": [
        "# logical operator \n",
        "\n",
        "# to check the condition \n",
        "age =10\n",
        "salary = 1000\n",
        "\n",
        "if age==10 and salary==1000:\n",
        "  print(\"True\")"
      ]
    },
    {
      "cell_type": "code",
      "execution_count": null,
      "metadata": {
        "colab": {
          "base_uri": "https://localhost:8080/"
        },
        "id": "9-u7LVz3Xsb8",
        "outputId": "c697d15c-6e06-464a-f574-66d621019c0f"
      },
      "outputs": [
        {
          "data": {
            "text/plain": [
              "False"
            ]
          },
          "execution_count": 51,
          "metadata": {},
          "output_type": "execute_result"
        }
      ],
      "source": [
        "not(age)"
      ]
    },
    {
      "cell_type": "code",
      "execution_count": null,
      "metadata": {
        "id": "FL4pQYYRX0hb"
      },
      "outputs": [],
      "source": [
        "# Bitwise operator \n",
        "\n",
        "'''\n",
        "8421 \n",
        "    8421\n",
        "7   0111\n",
        "13  1101\n",
        "----------\n",
        "&   0101\n",
        "|   1111\n",
        "\n",
        "'''"
      ]
    },
    {
      "cell_type": "code",
      "execution_count": null,
      "metadata": {
        "colab": {
          "base_uri": "https://localhost:8080/"
        },
        "id": "ieVmtWZ9Y03X",
        "outputId": "31d24323-fbff-401f-9d62-46205faae5e4"
      },
      "outputs": [
        {
          "data": {
            "text/plain": [
              "15"
            ]
          },
          "execution_count": 52,
          "metadata": {},
          "output_type": "execute_result"
        }
      ],
      "source": [
        "7|13\n",
        "\n",
        "\n"
      ]
    },
    {
      "cell_type": "code",
      "execution_count": null,
      "metadata": {
        "colab": {
          "base_uri": "https://localhost:8080/"
        },
        "id": "D0Ey6WeQZFDU",
        "outputId": "a8f9e13f-0494-494a-a892-72c04a191a59"
      },
      "outputs": [
        {
          "data": {
            "text/plain": [
              "5"
            ]
          },
          "execution_count": 53,
          "metadata": {},
          "output_type": "execute_result"
        }
      ],
      "source": [
        "7&13"
      ]
    },
    {
      "cell_type": "code",
      "execution_count": null,
      "metadata": {
        "id": "Fs2fnZbyZG8-"
      },
      "outputs": [],
      "source": [
        "#left and right shift \n",
        "'''\n",
        "128 64 32 16 8 4 2 1\n",
        "0   0   0  0 1 0 1 1\n",
        "right shift\n",
        "0 0 0 0 0 1 0 1\n",
        "\n",
        "left shift\n",
        "0 0 0 0 10110\n",
        "\n",
        "'''"
      ]
    },
    {
      "cell_type": "code",
      "execution_count": null,
      "metadata": {
        "colab": {
          "base_uri": "https://localhost:8080/"
        },
        "id": "XxRofCI2aLDS",
        "outputId": "fa1788ac-5c44-49e7-d658-cd075f37330b"
      },
      "outputs": [
        {
          "data": {
            "text/plain": [
              "5"
            ]
          },
          "execution_count": 56,
          "metadata": {},
          "output_type": "execute_result"
        }
      ],
      "source": [
        "11>>1"
      ]
    },
    {
      "cell_type": "code",
      "execution_count": null,
      "metadata": {
        "colab": {
          "base_uri": "https://localhost:8080/"
        },
        "id": "PqjGr8f7aPH7",
        "outputId": "59ddcea5-3de6-4292-ad46-fa9774418f8a"
      },
      "outputs": [
        {
          "data": {
            "text/plain": [
              "22"
            ]
          },
          "execution_count": 61,
          "metadata": {},
          "output_type": "execute_result"
        }
      ],
      "source": [
        "11<<1"
      ]
    },
    {
      "cell_type": "code",
      "execution_count": null,
      "metadata": {
        "colab": {
          "base_uri": "https://localhost:8080/"
        },
        "id": "DhnN_KtHaiIz",
        "outputId": "11f19f82-f2ad-46c7-8555-6e8767cbc994"
      },
      "outputs": [
        {
          "data": {
            "text/plain": [
              "7"
            ]
          },
          "execution_count": 60,
          "metadata": {},
          "output_type": "execute_result"
        }
      ],
      "source": [
        "31>>2"
      ]
    },
    {
      "cell_type": "code",
      "execution_count": null,
      "metadata": {
        "colab": {
          "base_uri": "https://localhost:8080/"
        },
        "id": "iJQiuDwUarMB",
        "outputId": "c8ac5948-6f39-4343-db0a-a3cb8fb36423"
      },
      "outputs": [
        {
          "data": {
            "text/plain": [
              "44"
            ]
          },
          "execution_count": 62,
          "metadata": {},
          "output_type": "execute_result"
        }
      ],
      "source": [
        "11<<2"
      ]
    },
    {
      "cell_type": "code",
      "execution_count": null,
      "metadata": {
        "id": "o6YjzyyVbB6M"
      },
      "outputs": [],
      "source": [
        "# Bitwise XOR "
      ]
    },
    {
      "cell_type": "code",
      "execution_count": null,
      "metadata": {
        "colab": {
          "base_uri": "https://localhost:8080/"
        },
        "id": "5tQiDS9IbF3A",
        "outputId": "8a309e68-bcd4-4886-8c1c-4afc9e0625f0"
      },
      "outputs": [
        {
          "data": {
            "text/plain": [
              "True"
            ]
          },
          "execution_count": 63,
          "metadata": {},
          "output_type": "execute_result"
        }
      ],
      "source": [
        "# membership and identity \n",
        "\n",
        "\"b\" in \"bangalore\"\n"
      ]
    },
    {
      "cell_type": "code",
      "execution_count": null,
      "metadata": {
        "colab": {
          "base_uri": "https://localhost:8080/"
        },
        "id": "pQJU0wUIbjgP",
        "outputId": "e1f50e98-6a1d-42fc-86c1-4306e4938100"
      },
      "outputs": [
        {
          "data": {
            "text/plain": [
              "True"
            ]
          },
          "execution_count": 64,
          "metadata": {},
          "output_type": "execute_result"
        }
      ],
      "source": [
        "\"B\" not in \"bangalore\""
      ]
    },
    {
      "cell_type": "code",
      "execution_count": null,
      "metadata": {
        "colab": {
          "base_uri": "https://localhost:8080/"
        },
        "id": "1JQJze3kbqU0",
        "outputId": "b88d0f18-da6a-4571-a434-fc9d7ffba768"
      },
      "outputs": [
        {
          "name": "stdout",
          "output_type": "stream",
          "text": [
            "<class 'int'>\n"
          ]
        }
      ],
      "source": [
        "# identity => it validate whether an object belongs to a class or not \n",
        "\n",
        "x=10\n",
        "print(type(x))"
      ]
    },
    {
      "cell_type": "code",
      "execution_count": null,
      "metadata": {
        "colab": {
          "base_uri": "https://localhost:8080/"
        },
        "id": "kYZxW_1Zb5fh",
        "outputId": "4a1908aa-30f3-4a5d-9406-fef838b5b415"
      },
      "outputs": [
        {
          "data": {
            "text/plain": [
              "True"
            ]
          },
          "execution_count": 66,
          "metadata": {},
          "output_type": "execute_result"
        }
      ],
      "source": [
        "type(x) is int"
      ]
    },
    {
      "cell_type": "code",
      "execution_count": null,
      "metadata": {
        "colab": {
          "base_uri": "https://localhost:8080/"
        },
        "id": "2Uyl6mxycAxF",
        "outputId": "0e0ad656-2c5f-4345-c25e-b198fb22489c"
      },
      "outputs": [
        {
          "data": {
            "text/plain": [
              "True"
            ]
          },
          "execution_count": 67,
          "metadata": {},
          "output_type": "execute_result"
        }
      ],
      "source": [
        "type(x) is not str"
      ]
    },
    {
      "cell_type": "code",
      "execution_count": null,
      "metadata": {
        "colab": {
          "base_uri": "https://localhost:8080/"
        },
        "id": "DM16kRYGeJyj",
        "outputId": "16447e1b-215e-4c28-c63b-60003ea6cf15"
      },
      "outputs": [
        {
          "data": {
            "text/plain": [
              "True"
            ]
          },
          "execution_count": 68,
          "metadata": {},
          "output_type": "execute_result"
        }
      ],
      "source": [
        "x=10\n",
        "y=10\n",
        "x is y"
      ]
    },
    {
      "cell_type": "code",
      "execution_count": null,
      "metadata": {
        "colab": {
          "base_uri": "https://localhost:8080/"
        },
        "id": "gBx4y-l6eNgV",
        "outputId": "31435b38-8f7b-49fb-c8f1-40c650e47ebc"
      },
      "outputs": [
        {
          "data": {
            "text/plain": [
              "False"
            ]
          },
          "execution_count": 69,
          "metadata": {},
          "output_type": "execute_result"
        }
      ],
      "source": [
        "x=[1,2,3]\n",
        "y=[1,2,3]\n",
        "x is y"
      ]
    },
    {
      "cell_type": "code",
      "execution_count": null,
      "metadata": {
        "id": "YBTTsKP_-KhZ"
      },
      "outputs": [],
      "source": []
    },
    {
      "cell_type": "code",
      "execution_count": null,
      "metadata": {
        "id": "43K9ydT-c0BA"
      },
      "outputs": [],
      "source": [
        "'''\n",
        "string slicing \n",
        "conditional statement \n",
        "looping statement \n",
        "program \n",
        "'''\n"
      ]
    },
    {
      "cell_type": "code",
      "execution_count": null,
      "metadata": {
        "colab": {
          "base_uri": "https://localhost:8080/",
          "height": 53
        },
        "id": "_jhDi8tT-73a",
        "outputId": "aba1979b-a707-4a3c-aa9f-62f97eef5fec"
      },
      "outputs": [
        {
          "data": {
            "application/vnd.google.colaboratory.intrinsic+json": {
              "type": "string"
            },
            "text/plain": [
              "'\\nextracting the portion from a data ( string )\\nstring : sequential collection of characters\\nposition to define - index\\n\\nBANGALORE\\n012345678\\n'"
            ]
          },
          "execution_count": 70,
          "metadata": {},
          "output_type": "execute_result"
        }
      ],
      "source": [
        "#slicing \n",
        "\n",
        "'''\n",
        "extracting the portion from a data ( string )\n",
        "string : sequential collection of characters\n",
        "position to define - index\n",
        "\n",
        "BANGALORE\n",
        "012345678\n",
        "'''"
      ]
    },
    {
      "cell_type": "code",
      "execution_count": null,
      "metadata": {
        "id": "TwWpy7NJ_alr"
      },
      "outputs": [],
      "source": [
        "city=\"bengalore\"\n"
      ]
    },
    {
      "cell_type": "code",
      "execution_count": null,
      "metadata": {
        "colab": {
          "base_uri": "https://localhost:8080/"
        },
        "id": "6RWDRjmB_e7a",
        "outputId": "4ac74933-ce37-42ac-ef08-9fe607530113"
      },
      "outputs": [
        {
          "name": "stdout",
          "output_type": "stream",
          "text": [
            "b\n"
          ]
        }
      ],
      "source": [
        "print(city[0])"
      ]
    },
    {
      "cell_type": "code",
      "execution_count": null,
      "metadata": {
        "colab": {
          "base_uri": "https://localhost:8080/"
        },
        "id": "TtxtyPV1_yKo",
        "outputId": "e8181eff-92a1-4585-ef9a-7fad4e3e61c7"
      },
      "outputs": [
        {
          "name": "stdout",
          "output_type": "stream",
          "text": [
            "erolagneb\n"
          ]
        }
      ],
      "source": [
        "print(city[::-1])"
      ]
    },
    {
      "cell_type": "code",
      "execution_count": null,
      "metadata": {
        "colab": {
          "base_uri": "https://localhost:8080/"
        },
        "id": "br0A-Ema_-5Z",
        "outputId": "01978a33-dc79-48e6-d475-13fa9a0730c2"
      },
      "outputs": [
        {
          "name": "stdout",
          "output_type": "stream",
          "text": [
            "ben\n"
          ]
        }
      ],
      "source": [
        "print(city[0:3])"
      ]
    },
    {
      "cell_type": "code",
      "execution_count": null,
      "metadata": {
        "colab": {
          "base_uri": "https://localhost:8080/"
        },
        "id": "jnHsWS-IAYRe",
        "outputId": "41946c6e-ff33-4724-a53a-0b44696ee6a7"
      },
      "outputs": [
        {
          "name": "stdout",
          "output_type": "stream",
          "text": [
            "\n"
          ]
        }
      ],
      "source": [
        "print(city[-1:-4:1])"
      ]
    },
    {
      "cell_type": "code",
      "execution_count": null,
      "metadata": {
        "colab": {
          "base_uri": "https://localhost:8080/"
        },
        "id": "3-bCqSWgCGnn",
        "outputId": "c358d5b6-e8ee-43c4-b703-9af266e35ec5"
      },
      "outputs": [
        {
          "name": "stdout",
          "output_type": "stream",
          "text": [
            "\n"
          ]
        }
      ],
      "source": [
        "print(city[-4:5])"
      ]
    },
    {
      "cell_type": "code",
      "execution_count": null,
      "metadata": {
        "colab": {
          "base_uri": "https://localhost:8080/"
        },
        "id": "-4Oh9f8hDKWu",
        "outputId": "fe8644dc-c132-4199-c529-57fbb10a56e8"
      },
      "outputs": [
        {
          "name": "stdout",
          "output_type": "stream",
          "text": [
            "\n"
          ]
        }
      ],
      "source": [
        "print(city[-4:5:-1])"
      ]
    },
    {
      "cell_type": "code",
      "execution_count": null,
      "metadata": {
        "colab": {
          "base_uri": "https://localhost:8080/",
          "height": 36
        },
        "id": "OcKLF8ErDVCc",
        "outputId": "71dbb1b4-dbb3-4e92-cd47-9d4c6fa8cb13"
      },
      "outputs": [
        {
          "data": {
            "application/vnd.google.colaboratory.intrinsic+json": {
              "type": "string"
            },
            "text/plain": [
              "'\\nif condition:\\n  execute statement \\n\\nelse:\\n  execute statement\\n'"
            ]
          },
          "execution_count": 79,
          "metadata": {},
          "output_type": "execute_result"
        }
      ],
      "source": [
        "# If- else condition\n",
        "\n",
        "'''\n",
        "if condition:\n",
        "  execute statement \n",
        "\n",
        "else:\n",
        "  execute statement\n",
        "'''"
      ]
    },
    {
      "cell_type": "code",
      "execution_count": null,
      "metadata": {
        "colab": {
          "base_uri": "https://localhost:8080/"
        },
        "id": "tOpPi9YiJAKC",
        "outputId": "a25446ab-6093-408c-aa27-28045089a912"
      },
      "outputs": [
        {
          "name": "stdout",
          "output_type": "stream",
          "text": [
            "Prime number : 2\n",
            "Prime number : 3\n",
            "Prime number : 5\n",
            "Prime number : 7\n",
            "Prime number : 11\n",
            "Prime number : 13\n",
            "Prime number : 17\n",
            "Prime number : 19\n",
            "Prime number : 23\n",
            "Prime number : 29\n",
            "Prime number : 31\n",
            "Prime number : 37\n",
            "Prime number : 41\n",
            "Prime number : 43\n",
            "Prime number : 47\n",
            "Prime number : 53\n",
            "Prime number : 59\n",
            "Prime number : 61\n",
            "Prime number : 67\n",
            "Prime number : 71\n",
            "Prime number : 73\n",
            "Prime number : 79\n",
            "Prime number : 83\n",
            "Prime number : 89\n",
            "Prime number : 97\n"
          ]
        }
      ],
      "source": [
        "'''\n",
        "find the prime number from 1 to 100\n",
        "'''\n",
        "for val in range(2,100):\n",
        "  flag=0\n",
        "  for j in range(2,val//2+1):\n",
        "    if val%j==0:\n",
        "      flag = 1\n",
        "      break\n",
        "  if flag ==0:\n",
        "    print (\"Prime number :\", val)"
      ]
    },
    {
      "cell_type": "code",
      "execution_count": null,
      "metadata": {
        "colab": {
          "base_uri": "https://localhost:8080/"
        },
        "id": "Uv-BxsAegYsr",
        "outputId": "fce5f502-619a-4eaa-9de6-e6eece1aff11"
      },
      "outputs": [
        {
          "name": "stdout",
          "output_type": "stream",
          "text": [
            "enter total prime numbers you want: 10\n",
            "1 prime number is 2\n",
            "2 prime number is 3\n",
            "3 prime number is 5\n",
            "4 prime number is 7\n",
            "5 prime number is 11\n",
            "6 prime number is 13\n",
            "7 prime number is 17\n",
            "8 prime number is 19\n",
            "9 prime number is 23\n",
            "10 prime number is 29\n"
          ]
        }
      ],
      "source": [
        "counttotal=int(input(\"enter total prime numbers you want: \"))\n",
        "k=count=1\n",
        "while(count<=counttotal):\n",
        "  flag=0\n",
        "  k=k+1\n",
        "  for j in range(2,k//2+1):\n",
        "    if k%j==0:\n",
        "      flag=1\n",
        "      break\n",
        "  if flag==0:\n",
        "    print(\"{} prime number is {}\".format(count,k))\n",
        "    count+=1"
      ]
    },
    {
      "cell_type": "markdown",
      "metadata": {
        "id": "xjG7LShgLOhz"
      },
      "source": [
        "**Day 2 - Python Programming**"
      ]
    },
    {
      "cell_type": "code",
      "execution_count": null,
      "metadata": {
        "colab": {
          "background_save": true,
          "base_uri": "https://localhost:8080/",
          "height": 36
        },
        "id": "QQ7f2IxwLZsy",
        "outputId": "57c737e8-7efc-4087-a147-18d8b9484e36"
      },
      "outputs": [
        {
          "data": {
            "application/vnd.google.colaboratory.intrinsic+json": {
              "type": "string"
            },
            "text/plain": [
              "'\\nTopics to be covered:\\n    \\n\\n'"
            ]
          },
          "execution_count": 5,
          "metadata": {},
          "output_type": "execute_result"
        }
      ],
      "source": [
        "'''\n",
        "Topics to be covered:\n",
        "    loops\n",
        "    data types we have in python\n",
        "    list \n",
        "    tuples\n",
        "    dictionary\n",
        "\n",
        "'''"
      ]
    },
    {
      "cell_type": "code",
      "source": [
        "#list \n",
        "\n",
        "'''\n",
        "list is the collection of sequential value , list is a mutable data type\n",
        "list have the index position ( but memory value are not continuous )\n",
        "\n",
        "''' \n",
        "mylist=[1,2,3,4]\n",
        "print(mylist, type(mylist))\n"
      ],
      "metadata": {
        "colab": {
          "base_uri": "https://localhost:8080/"
        },
        "id": "CO_UtNzlgkLm",
        "outputId": "534c9f4e-f12f-49bc-9386-7fe4e2b6ad1e"
      },
      "execution_count": null,
      "outputs": [
        {
          "output_type": "stream",
          "name": "stdout",
          "text": [
            "[1, 2, 3, 4] <class 'list'>\n"
          ]
        }
      ]
    },
    {
      "cell_type": "code",
      "source": [
        "mylist[0]\n"
      ],
      "metadata": {
        "colab": {
          "base_uri": "https://localhost:8080/"
        },
        "id": "WDJBKnnTiC33",
        "outputId": "579c08bb-2388-4dc9-af19-63d5502911c1"
      },
      "execution_count": null,
      "outputs": [
        {
          "output_type": "execute_result",
          "data": {
            "text/plain": [
              "1"
            ]
          },
          "metadata": {},
          "execution_count": 10
        }
      ]
    },
    {
      "cell_type": "code",
      "source": [
        "mylist[-1]"
      ],
      "metadata": {
        "colab": {
          "base_uri": "https://localhost:8080/"
        },
        "id": "ID6aKVryiOYT",
        "outputId": "1c0d7227-d23a-4209-a64d-49597ab272fa"
      },
      "execution_count": null,
      "outputs": [
        {
          "output_type": "execute_result",
          "data": {
            "text/plain": [
              "4"
            ]
          },
          "metadata": {},
          "execution_count": 11
        }
      ]
    },
    {
      "cell_type": "code",
      "source": [
        "mylist[0:3]=[100,200,300,400]"
      ],
      "metadata": {
        "id": "bFcMmuVbiR-e"
      },
      "execution_count": null,
      "outputs": []
    },
    {
      "cell_type": "code",
      "source": [
        "mylist.extend(\"Hey\")\n",
        "mylist"
      ],
      "metadata": {
        "colab": {
          "base_uri": "https://localhost:8080/"
        },
        "id": "5NuGIx5qkVal",
        "outputId": "2a0f1413-faf1-45fc-819f-ec5440cc9d9a"
      },
      "execution_count": null,
      "outputs": [
        {
          "output_type": "execute_result",
          "data": {
            "text/plain": [
              "[100, 200, 300, 400, 4, 'H', 'e', 'y']"
            ]
          },
          "metadata": {},
          "execution_count": 14
        }
      ]
    },
    {
      "cell_type": "code",
      "source": [
        "mylist.extend(['hey',10,1000])\n",
        "mylist"
      ],
      "metadata": {
        "colab": {
          "base_uri": "https://localhost:8080/"
        },
        "id": "fG3wpqjJlLIP",
        "outputId": "0f4300b3-d896-40fb-8b54-8b4f66b7f195"
      },
      "execution_count": null,
      "outputs": [
        {
          "output_type": "execute_result",
          "data": {
            "text/plain": [
              "[100, 200, 300, 400, 4, 'H', 'e', 'y', 'hey', 10, 1000]"
            ]
          },
          "metadata": {},
          "execution_count": 15
        }
      ]
    },
    {
      "cell_type": "code",
      "source": [
        "mylist.insert(1,\"hello\")\n",
        "mylist"
      ],
      "metadata": {
        "colab": {
          "base_uri": "https://localhost:8080/"
        },
        "id": "Aopthm7LlTMm",
        "outputId": "e47a462e-3032-4db6-f601-8d399b38175c"
      },
      "execution_count": null,
      "outputs": [
        {
          "output_type": "execute_result",
          "data": {
            "text/plain": [
              "[100, 'hello', 'hello', 200, 300, 400, 4, 'H', 'e', 'y', 'hey', 10, 1000]"
            ]
          },
          "metadata": {},
          "execution_count": 17
        }
      ]
    },
    {
      "cell_type": "code",
      "source": [
        "mylist.sort()\n",
        "mylist"
      ],
      "metadata": {
        "colab": {
          "base_uri": "https://localhost:8080/",
          "height": 182
        },
        "id": "0ttLAgV2l3H6",
        "outputId": "27fbb71e-4bfd-4ebf-9016-340c70395a63"
      },
      "execution_count": null,
      "outputs": [
        {
          "output_type": "error",
          "ename": "TypeError",
          "evalue": "ignored",
          "traceback": [
            "\u001b[0;31m---------------------------------------------------------------------------\u001b[0m",
            "\u001b[0;31mTypeError\u001b[0m                                 Traceback (most recent call last)",
            "\u001b[0;32m<ipython-input-18-bc29555334f8>\u001b[0m in \u001b[0;36m<module>\u001b[0;34m\u001b[0m\n\u001b[0;32m----> 1\u001b[0;31m \u001b[0mmylist\u001b[0m\u001b[0;34m.\u001b[0m\u001b[0msort\u001b[0m\u001b[0;34m(\u001b[0m\u001b[0;34m)\u001b[0m\u001b[0;34m\u001b[0m\u001b[0;34m\u001b[0m\u001b[0m\n\u001b[0m\u001b[1;32m      2\u001b[0m \u001b[0mmylist\u001b[0m\u001b[0;34m\u001b[0m\u001b[0;34m\u001b[0m\u001b[0m\n",
            "\u001b[0;31mTypeError\u001b[0m: '<' not supported between instances of 'str' and 'int'"
          ]
        }
      ]
    },
    {
      "cell_type": "code",
      "source": [
        "mylist.pop()"
      ],
      "metadata": {
        "id": "fhDb6xF-mVVv",
        "colab": {
          "base_uri": "https://localhost:8080/"
        },
        "outputId": "2bc5c167-bfaf-4f56-c42c-c52f566c4e41"
      },
      "execution_count": 19,
      "outputs": [
        {
          "output_type": "execute_result",
          "data": {
            "text/plain": [
              "1000"
            ]
          },
          "metadata": {},
          "execution_count": 19
        }
      ]
    },
    {
      "cell_type": "code",
      "source": [
        "del mylist[0]"
      ],
      "metadata": {
        "id": "d9P2ShHVnaSH"
      },
      "execution_count": 20,
      "outputs": []
    },
    {
      "cell_type": "code",
      "source": [
        "mylist"
      ],
      "metadata": {
        "colab": {
          "base_uri": "https://localhost:8080/"
        },
        "id": "BdcWc_xQneDO",
        "outputId": "433364d0-b3c2-48ab-c456-61454e03687f"
      },
      "execution_count": 21,
      "outputs": [
        {
          "output_type": "execute_result",
          "data": {
            "text/plain": [
              "['hello', 'hello', 200, 300, 400, 4, 'H', 'e', 'y', 'hey', 10]"
            ]
          },
          "metadata": {},
          "execution_count": 21
        }
      ]
    },
    {
      "cell_type": "code",
      "source": [
        "'''\n",
        "Q1. take an input from the user and check the data based on the following condition :\n",
        "    the data should be of string data type \n",
        "    the length of the input should lie in the range from 6 to 15  character in length \n",
        "    the input should have at least 1 capital letter ( A to Z):\n",
        "    1 smaller alphabet \n",
        "    1 number ( 0 - 9)\n",
        "    1 special character (# @ $ %)\n",
        "\n",
        "in case any of the condition is not valid ask for the input from the user upto 4 times , otherwise exit the program by putting a message input give is wrong\n",
        "[Note]: we don't have to use any input library or using regular expression or re or isnumeric()or isalphabet() like this \n",
        "\n",
        "\n",
        "Q2. to launch an ec2 instance with python, (MAY USE -BOTO3 LIBRARY)\n",
        "'''\n",
        "\n",
        "flag=0\n",
        "while(flag<5):\n",
        "  flag=0\n",
        "  n=input(\"enter a string :\")\n",
        "  if len(n)>=6 and len(n)<=15:\n",
        "    flag+=1\n",
        "  for ch in n:\n",
        "    if ord(ch)>=65 and ord(ch)<=90:\n",
        "      flag+=1\n",
        "    if ord(ch)>=97 and ord(ch)<=122:\n",
        "      flag+=1\n",
        "    if ord(ch)>=48 and ord(ch)<57 :\n",
        "      flag+=1\n",
        "    if ord(ch)>=35 and ord(ch)<=38 :\n",
        "      flag+=1\n",
        "  if flag==5:\n",
        "    print(\"Entered string accepted\")\n",
        "  print(flag)\n",
        "\n",
        "  \n",
        "\n",
        "\n"
      ],
      "metadata": {
        "id": "UhJ0xGSefKVz",
        "colab": {
          "base_uri": "https://localhost:8080/"
        },
        "outputId": "34d95d18-d338-423b-d4af-280852f980d1"
      },
      "execution_count": 53,
      "outputs": [
        {
          "output_type": "stream",
          "name": "stdout",
          "text": [
            "enter a string :ddfec\n",
            "Entered string accepted\n",
            "5\n"
          ]
        }
      ]
    },
    {
      "cell_type": "code",
      "source": [
        "'''\n",
        "Q1. take an input from the user and check the data based on the following condition :\n",
        "    the data should be of string data type \n",
        "    the length of the input should lie in the range from 6 to 15  character in length \n",
        "    the input should have at least 1 capital letter ( A to Z):\n",
        "    1 smaller alphabet \n",
        "    1 number ( 0 - 9)\n",
        "    1 special character (# @ $ %)\n",
        "\n",
        "in case any of the condition is not valid ask for the input from the user upto 4 times , otherwise exit the program by putting a message input give is wrong\n",
        "[Note]: we don't have to use any input library or using regular expression or re or isnumeric()or isalphabet() like this \n",
        "\n",
        "\n",
        "Q2. to launch an ec2 instance with python, (MAY USE -BOTO3 LIBRARY)\n",
        "'''\n",
        "\n",
        "flag=0\n",
        "while(flag<5):\n",
        "  flag=flag1=flag2=flag3=flag4=flag5=0\n",
        "  n=input(\"enter a string :\")\n",
        "  if len(n)>=6 and len(n)<=15:\n",
        "    flag1=1\n",
        "  for ch in n:\n",
        "    if ord(ch)>=65 and ord(ch)<=90:\n",
        "      flag2=1\n",
        "    if ord(ch)>=97 and ord(ch)<=122:\n",
        "      flag3=1\n",
        "    if ord(ch)>=48 and ord(ch)<57 :\n",
        "      flag4=1\n",
        "    if (ord(ch)>=35 and ord(ch)<=38) or ord(ch)==64 :\n",
        "      flag5=1\n",
        "  flag=flag1+flag2+flag3+flag4+flag5\n",
        "  if flag==5:\n",
        "    print(\"Entered string accepted\")\n",
        "\n",
        "  \n",
        "\n",
        "\n"
      ],
      "metadata": {
        "colab": {
          "base_uri": "https://localhost:8080/"
        },
        "id": "bjtlCNQaBqMN",
        "outputId": "39b4791f-624c-4bc6-c3eb-b0c1fe9f5cee"
      },
      "execution_count": 62,
      "outputs": [
        {
          "output_type": "stream",
          "name": "stdout",
          "text": [
            "enter a string :sdefdcf@s1\n",
            "enter a string :xcdfcA@dv2\n",
            "Entered string accepted\n"
          ]
        }
      ]
    },
    {
      "cell_type": "code",
      "source": [
        "'''\n",
        "Q. create a list containing multiple data types , in case if the element is of string data type , then try to delete the element from list other wise create the square of that number\n",
        "'''\n",
        "\n",
        "mylist=[\"abs\",\"akjs\",1,2,3,5,\"asas\",]\n",
        "newlist=[]\n",
        "for val in mylist:\n",
        "  if type(val) is str:\n",
        "     pass\n",
        "  else:\n",
        "    newlist.append(val**2)\n",
        "\n",
        "print(newlist)\n",
        "\n"
      ],
      "metadata": {
        "id": "xDiqT_JQgdhg",
        "colab": {
          "base_uri": "https://localhost:8080/"
        },
        "outputId": "0a9218ec-0bf3-490f-a7f9-c151ddcc78b9"
      },
      "execution_count": 42,
      "outputs": [
        {
          "output_type": "stream",
          "name": "stdout",
          "text": [
            "[1, 4, 9, 25]\n"
          ]
        }
      ]
    },
    {
      "cell_type": "code",
      "source": [
        "# Tuple\n",
        "\n",
        "'''\n",
        "is sequential collection of elements having the index position\n",
        "\n",
        "'''\n",
        "\n",
        "mytuple=10,'abc'\n",
        "print(type(mytuple))"
      ],
      "metadata": {
        "colab": {
          "base_uri": "https://localhost:8080/"
        },
        "id": "cnS1US76qA7g",
        "outputId": "0873d930-936e-45ea-d462-cacee5d20a67"
      },
      "execution_count": 28,
      "outputs": [
        {
          "output_type": "stream",
          "name": "stdout",
          "text": [
            "<class 'tuple'>\n"
          ]
        }
      ]
    },
    {
      "cell_type": "markdown",
      "source": [
        "mytuple=10,\n",
        "\n",
        "> Indented block\n",
        "\n",
        "\n",
        "print(mytuple, type(mytuple))\n",
        "\n"
      ],
      "metadata": {
        "id": "6J0oHfjyqrVK"
      }
    },
    {
      "cell_type": "code",
      "source": [
        "# Dictionary \n",
        "\n",
        "'''\n",
        "a data type where we store the associated data with some identifier\n",
        "identifier will be unique\n",
        "data can be duplicated\n",
        "'''\n",
        "\n",
        "mydictionary={}\n",
        "\n",
        "print(type(mydictionary))"
      ],
      "metadata": {
        "colab": {
          "base_uri": "https://localhost:8080/"
        },
        "id": "c6I727LWEvWZ",
        "outputId": "f63ec598-d91c-45f4-8295-556cc6344a78"
      },
      "execution_count": 63,
      "outputs": [
        {
          "output_type": "stream",
          "name": "stdout",
          "text": [
            "<class 'dict'>\n"
          ]
        }
      ]
    },
    {
      "cell_type": "code",
      "source": [
        "# dictionary has no index position \n",
        "mydictionary={\"name\":\"Lokesh Kumar\",\"age\":23,\"email\":\"lokeshkumarfuturensetech.com\"}\n",
        "print(mydictionary)"
      ],
      "metadata": {
        "colab": {
          "base_uri": "https://localhost:8080/"
        },
        "id": "HUzWZu6EGICS",
        "outputId": "8ff1df75-3d4c-46d3-d939-df64737368c6"
      },
      "execution_count": 64,
      "outputs": [
        {
          "output_type": "stream",
          "name": "stdout",
          "text": [
            "{'name': 'Lokesh Kumar', 'age': 23, 'email': 'lokeshkumarfuturensetech.com'}\n"
          ]
        }
      ]
    },
    {
      "cell_type": "code",
      "source": [
        "mydictionary['salary']=7\n"
      ],
      "metadata": {
        "id": "S88dUgUcGnhp"
      },
      "execution_count": 67,
      "outputs": []
    },
    {
      "cell_type": "code",
      "source": [
        "mydictionary"
      ],
      "metadata": {
        "colab": {
          "base_uri": "https://localhost:8080/"
        },
        "id": "vjb7EDtAG_Hq",
        "outputId": "1c7b6e00-9035-4d93-902b-25b113a4faa1"
      },
      "execution_count": 68,
      "outputs": [
        {
          "output_type": "execute_result",
          "data": {
            "text/plain": [
              "{'name': 'Lokesh Kumar',\n",
              " 'age': 23,\n",
              " 'email': 'lokeshkumarfuturensetech.com',\n",
              " 'salary': 7}"
            ]
          },
          "metadata": {},
          "execution_count": 68
        }
      ]
    },
    {
      "cell_type": "code",
      "source": [
        "#  dictionary are mutable unordered collections of key value pair\n",
        "\n",
        "mydictionary."
      ],
      "metadata": {
        "id": "JnEtXMcbHB7i"
      },
      "execution_count": null,
      "outputs": []
    },
    {
      "cell_type": "code",
      "source": [
        "'''\n",
        "Q.: difference between zip and enumate method\n",
        "'''"
      ],
      "metadata": {
        "id": "uEomdBbFKEAA"
      },
      "execution_count": null,
      "outputs": []
    },
    {
      "cell_type": "code",
      "source": [
        "def sort_sublists(input_list):\n",
        "    result = [sorted(x, key = lambda x:x[0]) for x in input_list] \n",
        "    return result\n",
        "color1 = [[\"green\", \"orange\"], [\"black\",\"red\" ,\"white\",\"pink\"], [\"white\", \"black\", \"orange\"]]\n",
        "print(\"\\nOriginal list:\")\n",
        "print(color1)  \n",
        "print(\"\\nAfter sorting each sublist of the said list of lists:\")\n",
        "print(sort_sublists(color1))\n"
      ],
      "metadata": {
        "colab": {
          "base_uri": "https://localhost:8080/"
        },
        "id": "gQIcsRi-LTDW",
        "outputId": "7a806c2e-83f6-445a-806a-93ce65ec5c80"
      },
      "execution_count": 134,
      "outputs": [
        {
          "output_type": "stream",
          "name": "stdout",
          "text": [
            "\n",
            "Original list:\n",
            "[['green', 'orange'], ['black', 'red', 'white', 'pink'], ['white', 'black', 'orange']]\n",
            "\n",
            "After sorting each sublist of the said list of lists:\n",
            "[['green', 'orange'], ['black', 'pink', 'red', 'white'], ['black', 'orange', 'white']]\n"
          ]
        }
      ]
    },
    {
      "cell_type": "code",
      "source": [
        "# Sets\n",
        "\n",
        "'''\n",
        "unordered collection of data types and all the elements in the set to be unique\n",
        "'''\n",
        "\n",
        "myset=set({})\n",
        "print(type(myset))"
      ],
      "metadata": {
        "colab": {
          "base_uri": "https://localhost:8080/"
        },
        "id": "gxGB5pDFKkrW",
        "outputId": "fa92a2a1-a0d5-449d-bba7-3b2a69e03f0a"
      },
      "execution_count": 69,
      "outputs": [
        {
          "output_type": "stream",
          "name": "stdout",
          "text": [
            "<class 'set'>\n"
          ]
        }
      ]
    },
    {
      "cell_type": "code",
      "source": [
        "myset={1,2,3,5,6}\n",
        "\n"
      ],
      "metadata": {
        "id": "t1aN-q0vK7AW"
      },
      "execution_count": null,
      "outputs": []
    },
    {
      "cell_type": "code",
      "source": [
        "myset=set(\"lokesh\")\n",
        "myset"
      ],
      "metadata": {
        "colab": {
          "base_uri": "https://localhost:8080/"
        },
        "id": "3t3E-5kvMsVz",
        "outputId": "fb5752ea-7041-49d5-b408-34dfa05eb4ad"
      },
      "execution_count": 75,
      "outputs": [
        {
          "output_type": "execute_result",
          "data": {
            "text/plain": [
              "{'e', 'h', 'k', 'l', 'o', 's'}"
            ]
          },
          "metadata": {},
          "execution_count": 75
        }
      ]
    },
    {
      "cell_type": "code",
      "source": [
        "myset=set([1,2,3,4])\n",
        "myset"
      ],
      "metadata": {
        "colab": {
          "base_uri": "https://localhost:8080/"
        },
        "id": "FYycze9kMxmX",
        "outputId": "0d4ed058-f977-4fd2-e5df-95dea0f12961"
      },
      "execution_count": 76,
      "outputs": [
        {
          "output_type": "execute_result",
          "data": {
            "text/plain": [
              "{1, 2, 3, 4}"
            ]
          },
          "metadata": {},
          "execution_count": 76
        }
      ]
    },
    {
      "cell_type": "code",
      "source": [
        "'''\n",
        "Q: perform union , difference , is disjoint , issuperset and symmetric_difference_update \n",
        "\n",
        "'''"
      ],
      "metadata": {
        "id": "ucg5-DRDOXBf"
      },
      "execution_count": null,
      "outputs": []
    },
    {
      "cell_type": "code",
      "source": [
        "set1={1,2,5,6,4,8,11}\n",
        "set2={1,6,10,3,9,12,5}\n",
        "set3={1,5,6}\n",
        "set4={7,19,27}\n",
        "\n",
        "print(set1.union(set2))\n",
        "print(set1.intersection(set2))\n",
        "print(set1.difference(set2))\n",
        "print(set2.difference(set1))\n",
        "print(set1.isdisjoint(set2))\n",
        "print(set1.isdisjoint(set4))\n",
        "\n",
        "print(set1.issuperset(set2))\n",
        "print(set1.issuperset(set3))\n",
        "\n",
        "print(set1.symmetric_difference(set2))\n",
        "print(set1.symmetric_difference_update(set2))\n",
        "print(set1)\n"
      ],
      "metadata": {
        "colab": {
          "base_uri": "https://localhost:8080/"
        },
        "id": "O1BY3ptrOl_G",
        "outputId": "eb69a25a-3abb-4098-d294-a3a1a6273273"
      },
      "execution_count": 90,
      "outputs": [
        {
          "output_type": "stream",
          "name": "stdout",
          "text": [
            "{1, 2, 3, 4, 5, 6, 8, 9, 10, 11, 12}\n",
            "{1, 5, 6}\n",
            "{8, 2, 11, 4}\n",
            "{9, 10, 3, 12}\n",
            "False\n",
            "True\n",
            "False\n",
            "True\n",
            "{2, 3, 4, 8, 9, 10, 11, 12}\n",
            "None\n",
            "{2, 3, 4, 8, 9, 10, 11, 12}\n"
          ]
        }
      ]
    },
    {
      "cell_type": "code",
      "source": [
        "myt=(1,2,[4,5,6])\n",
        "myt[-1][1]=2\n",
        "print(myt)"
      ],
      "metadata": {
        "colab": {
          "base_uri": "https://localhost:8080/"
        },
        "id": "Un1AqG6FdlpL",
        "outputId": "0831804e-099c-4905-9ae8-a5b3a9288634"
      },
      "execution_count": 108,
      "outputs": [
        {
          "output_type": "stream",
          "name": "stdout",
          "text": [
            "(1, 2, [4, 2, 6])\n"
          ]
        }
      ]
    },
    {
      "cell_type": "code",
      "source": [
        "l1=[1,2,3,89]\n",
        "l2=[6,4,5,78,67]\n",
        "m=dict(zip(l1,l2))\n",
        "for ite in m:\n",
        "  print(ite,type(ite))\n",
        "print(type(m))\n",
        "d=dict(m)\n",
        "print(d)\n"
      ],
      "metadata": {
        "colab": {
          "base_uri": "https://localhost:8080/"
        },
        "id": "77RSH6qJeZNd",
        "outputId": "a66e2761-3a9d-4205-df2e-00cccb072e14"
      },
      "execution_count": 124,
      "outputs": [
        {
          "output_type": "stream",
          "name": "stdout",
          "text": [
            "1 <class 'int'>\n",
            "2 <class 'int'>\n",
            "3 <class 'int'>\n",
            "89 <class 'int'>\n",
            "<class 'dict'>\n",
            "{1: 6, 2: 4, 3: 5, 89: 78}\n"
          ]
        }
      ]
    },
    {
      "cell_type": "code",
      "source": [
        "'''\n",
        "Topics for tommorow\n",
        "  functional programming \n",
        "  parameter vs argument\n",
        "  lambda function\n",
        "  passing argument to function\n",
        "  problem solving skills\n",
        "  interview questions\n",
        "'''"
      ],
      "metadata": {
        "id": "VLYg5GEPkVOk"
      },
      "execution_count": null,
      "outputs": []
    },
    {
      "cell_type": "code",
      "source": [
        "l=[(1,'a'),(2,'b'),(3,'c')]\n",
        "d=dict(l)\n",
        "print(d)"
      ],
      "metadata": {
        "colab": {
          "base_uri": "https://localhost:8080/"
        },
        "id": "Km3CjjlAkp5j",
        "outputId": "cc751a77-e84d-40a7-8a0c-ec996c178cc1"
      },
      "execution_count": 123,
      "outputs": [
        {
          "output_type": "stream",
          "name": "stdout",
          "text": [
            "{1: 'a', 2: 'b', 3: 'c'}\n"
          ]
        }
      ]
    },
    {
      "cell_type": "code",
      "source": [
        "\n",
        "s={1,2,3,4,5,6,7,8}\n",
        "\n",
        "for val in s:\n",
        "  print(val)\n",
        "  if 5== val:\n",
        "   print(\"found\")"
      ],
      "metadata": {
        "colab": {
          "base_uri": "https://localhost:8080/"
        },
        "id": "tBq52RUHoHI6",
        "outputId": "f72424e6-b359-4ce3-a4b3-61fba3af0255"
      },
      "execution_count": 131,
      "outputs": [
        {
          "output_type": "stream",
          "name": "stdout",
          "text": [
            "1\n",
            "2\n",
            "3\n",
            "4\n",
            "5\n",
            "found\n",
            "6\n",
            "7\n",
            "8\n"
          ]
        }
      ]
    },
    {
      "cell_type": "code",
      "source": [],
      "metadata": {
        "id": "7dslvDWHpJHr"
      },
      "execution_count": null,
      "outputs": []
    }
  ],
  "metadata": {
    "colab": {
      "toc_visible": true,
      "provenance": []
    },
    "kernelspec": {
      "display_name": "Python 3",
      "name": "python3"
    },
    "language_info": {
      "name": "python"
    }
  },
  "nbformat": 4,
  "nbformat_minor": 0
}